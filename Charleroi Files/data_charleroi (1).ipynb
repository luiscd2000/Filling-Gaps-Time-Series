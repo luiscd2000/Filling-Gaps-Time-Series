{
  "cells": [
    {
      "cell_type": "markdown",
      "metadata": {
        "id": "OUiK0ANJbD9Y"
      },
      "source": [
        "# **Data Input**"
      ]
    },
    {
      "cell_type": "code",
      "execution_count": null,
      "metadata": {
        "colab": {
          "base_uri": "https://localhost:8080/"
        },
        "id": "gEtSpkFtX61V",
        "outputId": "c18c607d-338b-42c4-da5e-62cc013da2b4"
      },
      "outputs": [
        {
          "output_type": "stream",
          "name": "stdout",
          "text": [
            "Mounted at /content/drive\n"
          ]
        }
      ],
      "source": [
        "import pandas as pd\n",
        "import numpy as np\n",
        "from google.colab import drive\n",
        "drive.mount('/content/drive')"
      ]
    },
    {
      "cell_type": "code",
      "execution_count": null,
      "metadata": {
        "id": "1vbD4lNRY75B"
      },
      "outputs": [],
      "source": [
        "data1 = pd.read_csv(\"/content/drive/My Drive/DataThesis/Charleroi/BE_7_41871_2013_timeseries.csv\")\n",
        "data2 = pd.read_csv(\"/content/drive/My Drive/DataThesis/Charleroi/BE_7_41871_2014_timeseries.csv\")\n",
        "data3 = pd.read_csv(\"/content/drive/My Drive/DataThesis/Charleroi/BE_7_41871_2015_timeseries.csv\")\n",
        "data4 = pd.read_csv(\"/content/drive/My Drive/DataThesis/Charleroi/BE_7_41871_2016_timeseries.csv\")\n",
        "data5 = pd.read_csv(\"/content/drive/My Drive/DataThesis/Charleroi/BE_7_41871_2017_timeseries.csv\")\n",
        "data6 = pd.read_csv(\"/content/drive/My Drive/DataThesis/Charleroi/BE_7_41871_2018_timeseries.csv\")\n",
        "data7 = pd.read_csv(\"/content/drive/My Drive/DataThesis/Charleroi/BE_7_41871_2019_timeseries.csv\")"
      ]
    },
    {
      "cell_type": "code",
      "execution_count": null,
      "metadata": {
        "id": "SxD-wVjAZz6Z"
      },
      "outputs": [],
      "source": [
        "ozone_charleroi = pd.concat([data1,data2,data3,data4,data5,data6,data7])"
      ]
    },
    {
      "cell_type": "code",
      "execution_count": null,
      "metadata": {
        "id": "HOknX9vGaHhS"
      },
      "outputs": [],
      "source": [
        "columns_remove = ['AirPollutant','DatetimeEnd','AirQualityStationEoICode','AirQualityStation','Countrycode','Namespace','AirQualityNetwork','SamplingProcess','SamplingPoint','Sample','AirPollutantCode','AveragingTime','UnitOfMeasurement','Validity','Verification']\n",
        "ozone_charleroi = ozone_charleroi.drop(columns=columns_remove)"
      ]
    },
    {
      "cell_type": "code",
      "execution_count": null,
      "metadata": {
        "id": "hCHtyutfaR18"
      },
      "outputs": [],
      "source": [
        "ozone_charleroi['DatetimeBegin'] = ozone_charleroi['DatetimeBegin'].str[:-7]\n",
        "ozone_charleroi['DatetimeBegin'] = pd.to_datetime(ozone_charleroi['DatetimeBegin'])"
      ]
    },
    {
      "cell_type": "code",
      "execution_count": null,
      "metadata": {
        "id": "Yar-iBvThuCd"
      },
      "outputs": [],
      "source": [
        "ozone_charleroi = ozone_charleroi.sort_values(by='DatetimeBegin')\n",
        "ozone_charleroi = ozone_charleroi.groupby('DatetimeBegin')['Concentration'].mean().reset_index()"
      ]
    },
    {
      "cell_type": "code",
      "execution_count": null,
      "metadata": {
        "id": "Ddh3rdRp9ttb"
      },
      "outputs": [],
      "source": [
        "#ozone_charleroi.to_csv(\"/content/drive/My Drive/DataThesis/ozone_charleroi.csv\", index=False)"
      ]
    },
    {
      "cell_type": "code",
      "execution_count": null,
      "metadata": {
        "id": "-R-UVqGkbfEt"
      },
      "outputs": [],
      "source": [
        "ozone_charleroi_ori = ozone_charleroi.copy()"
      ]
    },
    {
      "cell_type": "code",
      "execution_count": null,
      "metadata": {
        "id": "1aRfVQoG9nzz"
      },
      "outputs": [],
      "source": [
        "import random\n",
        "\n",
        "# Set the seed\n",
        "random.seed(19)"
      ]
    },
    {
      "cell_type": "code",
      "execution_count": null,
      "metadata": {
        "id": "uc3z4Kw9-Df3"
      },
      "outputs": [],
      "source": [
        "obj = 0.20 # Percentage of observations that are going to be removed, to interpolate the removed observations and compute the MSE."
      ]
    },
    {
      "cell_type": "markdown",
      "metadata": {
        "id": "Lh0gUwmvyxmM"
      },
      "source": [
        "# **Exploratory Data Analysis**"
      ]
    },
    {
      "cell_type": "markdown",
      "metadata": {
        "id": "OoMQElb11tJP"
      },
      "source": [
        "## Data Features"
      ]
    },
    {
      "cell_type": "code",
      "execution_count": null,
      "metadata": {
        "colab": {
          "base_uri": "https://localhost:8080/"
        },
        "id": "YRbVBJqLy2Nc",
        "outputId": "979f6e8d-4d7a-4621-9144-7351ea51d9e1"
      },
      "outputs": [
        {
          "output_type": "execute_result",
          "data": {
            "text/plain": [
              "count    58632.000000\n",
              "mean        38.855557\n",
              "std         28.472219\n",
              "min          0.000000\n",
              "25%         16.500000\n",
              "50%         36.500000\n",
              "75%         55.000000\n",
              "max        224.500000\n",
              "Name: Concentration, dtype: float64"
            ]
          },
          "metadata": {},
          "execution_count": 11
        }
      ],
      "source": [
        "describe_full = ozone_charleroi['Concentration'].describe()\n",
        "describe_full"
      ]
    },
    {
      "cell_type": "code",
      "execution_count": null,
      "metadata": {
        "colab": {
          "base_uri": "https://localhost:8080/"
        },
        "id": "yHoLm3s0y2KS",
        "outputId": "a03712f0-a813-4937-db2a-2848fd164ed2"
      },
      "outputs": [
        {
          "output_type": "stream",
          "name": "stdout",
          "text": [
            "Number of NaN values in 'Concentration': 2711\n"
          ]
        }
      ],
      "source": [
        "nan_count = ozone_charleroi['Concentration'].isna().sum()\n",
        "print(\"Number of NaN values in 'Concentration':\", nan_count)"
      ]
    },
    {
      "cell_type": "code",
      "execution_count": null,
      "metadata": {
        "colab": {
          "base_uri": "https://localhost:8080/"
        },
        "id": "H804-POoy2AR",
        "outputId": "bd026d1b-b9d7-42a9-f6a9-e0cf45895883"
      },
      "outputs": [
        {
          "output_type": "stream",
          "name": "stdout",
          "text": [
            "The number of missing observations is: 4.62% for the 7 years of data.\n"
          ]
        }
      ],
      "source": [
        "num_missing = (nan_count/ozone_charleroi['Concentration'].count())*100\n",
        "num_missing = round(num_missing,2)\n",
        "print(f\"The number of missing observations is: {num_missing}% for the 7 years of data.\")"
      ]
    },
    {
      "cell_type": "markdown",
      "metadata": {
        "id": "ZZG_6KoA8-Dp"
      },
      "source": [
        "Now lets check the separation of the missing values in the data."
      ]
    },
    {
      "cell_type": "code",
      "execution_count": null,
      "metadata": {
        "id": "ROIk5Mch9FoD"
      },
      "outputs": [],
      "source": [
        "nan_indices = ozone_charleroi[ozone_charleroi['Concentration'].isna()].index"
      ]
    },
    {
      "cell_type": "code",
      "execution_count": null,
      "metadata": {
        "colab": {
          "base_uri": "https://localhost:8080/"
        },
        "id": "fqK2cwmK9nvz",
        "outputId": "3167c2a7-dd1f-47a2-d305-0f88cd2fa612"
      },
      "outputs": [
        {
          "output_type": "stream",
          "name": "stdout",
          "text": [
            "Counts of differences in missing values indices:\n",
            "Difference 1: 1279 occurrences\n",
            "Difference 6: 6 occurrences\n",
            "Difference 47: 1133 occurrences\n",
            "Difference 32: 7 occurrences\n",
            "Difference 15: 7 occurrences\n",
            "Difference 13: 4 occurrences\n",
            "Difference 44: 4 occurrences\n",
            "Difference 3: 7 occurrences\n",
            "Difference 30: 5 occurrences\n",
            "Difference 14: 7 occurrences\n",
            "Difference 31: 5 occurrences\n",
            "Difference 7: 6 occurrences\n",
            "Difference 8: 6 occurrences\n",
            "Difference 17: 7 occurrences\n",
            "Difference 39: 6 occurrences\n",
            "Difference 24: 6 occurrences\n",
            "Difference 23: 8 occurrences\n",
            "Difference 22: 5 occurrences\n",
            "Difference 10: 8 occurrences\n",
            "Difference 18: 11 occurrences\n",
            "Difference 29: 8 occurrences\n",
            "Difference 45: 8 occurrences\n",
            "Difference 2: 10 occurrences\n",
            "Difference 34: 2 occurrences\n",
            "Difference 46: 5 occurrences\n",
            "Difference 11: 6 occurrences\n",
            "Difference 35: 11 occurrences\n",
            "Difference 36: 8 occurrences\n",
            "Difference 16: 7 occurrences\n",
            "Difference 43: 4 occurrences\n",
            "Difference 27: 6 occurrences\n",
            "Difference 19: 16 occurrences\n",
            "Difference 28: 11 occurrences\n",
            "Difference 42: 7 occurrences\n",
            "Difference 26: 9 occurrences\n",
            "Difference 4: 8 occurrences\n",
            "Difference 38: 7 occurrences\n",
            "Difference 9: 5 occurrences\n",
            "Difference 25: 5 occurrences\n",
            "Difference 41: 5 occurrences\n",
            "Difference 21: 7 occurrences\n",
            "Difference 5: 8 occurrences\n",
            "Difference 40: 3 occurrences\n",
            "Difference 37: 3 occurrences\n",
            "Difference 20: 4 occurrences\n",
            "Difference 12: 7 occurrences\n",
            "Difference 33: 3 occurrences\n"
          ]
        }
      ],
      "source": [
        "# Initialize a dictionary to store the counts of differences\n",
        "diff_counts = {}\n",
        "\n",
        "# Iterate through the list of indices\n",
        "for i in range(len(nan_indices) - 1):\n",
        "    # Calculate the difference between consecutive indices\n",
        "    diff = nan_indices[i + 1] - nan_indices[i]\n",
        "\n",
        "    # Increment the count for this difference in the dictionary\n",
        "    if diff in diff_counts:\n",
        "        diff_counts[diff] += 1\n",
        "    else:\n",
        "        diff_counts[diff] = 1\n",
        "\n",
        "# Print the counts of differences\n",
        "print(\"Counts of differences in missing values indices:\")\n",
        "for diff, count in diff_counts.items():\n",
        "    print(f\"Difference {diff}: {count} occurrences\")"
      ]
    },
    {
      "cell_type": "markdown",
      "metadata": {
        "id": "DZdOJ_2S8Cbt"
      },
      "source": [
        "## Outliers Analysis"
      ]
    },
    {
      "cell_type": "markdown",
      "metadata": {
        "id": "9dPaKlyq18AE"
      },
      "source": [
        "### Outliers using IQR"
      ]
    },
    {
      "cell_type": "code",
      "execution_count": null,
      "metadata": {
        "id": "g9BOhSul4cDQ"
      },
      "outputs": [],
      "source": [
        "concentration_values = ozone_charleroi['Concentration']"
      ]
    },
    {
      "cell_type": "code",
      "execution_count": null,
      "metadata": {
        "colab": {
          "base_uri": "https://localhost:8080/"
        },
        "id": "OZcE3twZ0XLE",
        "outputId": "27bff191-529a-47e7-956d-814e0692cd49"
      },
      "outputs": [
        {
          "output_type": "stream",
          "name": "stdout",
          "text": [
            "Number of outliers in 'column_name': 1095\n"
          ]
        }
      ],
      "source": [
        "# Calculate the first quartile (Q1) and third quartile (Q3)\n",
        "Q1 = concentration_values.quantile(0.25)\n",
        "Q3 = concentration_values.quantile(0.75)\n",
        "\n",
        "# Interquartile Range (IQR)\n",
        "IQR = Q3 - Q1\n",
        "\n",
        "# Boundaries for outliers\n",
        "lower_bound = Q1 - 1.5 * IQR\n",
        "upper_bound = Q3 + 1.5 * IQR\n",
        "\n",
        "# Count the number of outliers\n",
        "outliers_count = ((concentration_values < lower_bound) | (concentration_values > upper_bound)).sum()\n",
        "\n",
        "# Print the count\n",
        "print(\"Number of outliers in 'column_name':\", outliers_count)"
      ]
    },
    {
      "cell_type": "code",
      "execution_count": null,
      "metadata": {
        "id": "RAKGYGZ00_dh"
      },
      "outputs": [],
      "source": [
        "outlier_indices = concentration_values[(concentration_values < lower_bound) | (concentration_values > upper_bound)].index\n",
        "\n",
        "# Remove the outliers from the DataFrame\n",
        "char_ozone_clean_IQR = ozone_charleroi.drop(outlier_indices)\n",
        "\n",
        "# Here I reset index\n",
        "char_ozone_clean_IQR.reset_index(drop=True, inplace=True)"
      ]
    },
    {
      "cell_type": "code",
      "execution_count": null,
      "metadata": {
        "id": "GTKZDKw85Sgs"
      },
      "outputs": [],
      "source": [
        "describe_IQR = char_ozone_clean_IQR['Concentration'].describe()"
      ]
    },
    {
      "cell_type": "markdown",
      "metadata": {
        "id": "DyygpMH02PtP"
      },
      "source": [
        "### Outliers using Z-score ###"
      ]
    },
    {
      "cell_type": "code",
      "execution_count": null,
      "metadata": {
        "colab": {
          "base_uri": "https://localhost:8080/"
        },
        "id": "uZ9zef6M2UvG",
        "outputId": "d3922af4-b5f2-4a69-b23d-f20f13f22ce4"
      },
      "outputs": [
        {
          "output_type": "stream",
          "name": "stdout",
          "text": [
            "Number of outliers in 'Concentrations' using Z-score: 606\n"
          ]
        }
      ],
      "source": [
        "# Calculate mean and standard deviation\n",
        "mean = concentration_values.mean()\n",
        "std_dev = concentration_values.std()\n",
        "\n",
        "# Calculate Z-scores\n",
        "z_scores = (concentration_values - mean) / std_dev\n",
        "\n",
        "# Define the threshold for outliers\n",
        "threshold = 3  # Adjust as needed based on your requirements\n",
        "\n",
        "# Get the indices of outliers\n",
        "outlier_indices = np.where(np.abs(z_scores) > threshold)[0]\n",
        "\n",
        "print(\"Number of outliers in 'Concentrations' using Z-score:\", len(outlier_indices))\n",
        "\n",
        "# Remove the outliers from the DataFrame\n",
        "char_ozone_clean_zscore = ozone_charleroi.drop(outlier_indices)\n",
        "\n",
        "# Index Reset\n",
        "char_ozone_clean_zscore.reset_index(drop=True, inplace=True)"
      ]
    },
    {
      "cell_type": "code",
      "execution_count": null,
      "metadata": {
        "id": "QkjLxqaP5bNf"
      },
      "outputs": [],
      "source": [
        "describe_zscore = char_ozone_clean_zscore['Concentration'].describe()"
      ]
    },
    {
      "cell_type": "markdown",
      "metadata": {
        "id": "mIcJ8klk4ztz"
      },
      "source": [
        "### Comparison"
      ]
    },
    {
      "cell_type": "code",
      "execution_count": null,
      "metadata": {
        "colab": {
          "base_uri": "https://localhost:8080/"
        },
        "id": "HY0NfaV20_NJ",
        "outputId": "bcec2c57-c97e-4270-cb17-db29f0e99bb0"
      },
      "outputs": [
        {
          "output_type": "execute_result",
          "data": {
            "text/plain": [
              "          Full Data  IQR Outlier Removal  Z-score Outlier Removal\n",
              "count  58632.000000         57537.000000             58026.000000\n",
              "mean      38.855557            37.088630                37.771680\n",
              "std       28.472219            25.546089                26.496955\n",
              "min        0.000000             0.000000                 0.000000\n",
              "25%       16.500000            16.000000                16.500000\n",
              "50%       36.500000            36.000000                36.000000\n",
              "75%       55.000000            54.000000                54.500000\n",
              "max      224.500000           112.500000               124.000000"
            ],
            "text/html": [
              "\n",
              "  <div id=\"df-586c1a93-64aa-417a-9087-75c80354ded4\" class=\"colab-df-container\">\n",
              "    <div>\n",
              "<style scoped>\n",
              "    .dataframe tbody tr th:only-of-type {\n",
              "        vertical-align: middle;\n",
              "    }\n",
              "\n",
              "    .dataframe tbody tr th {\n",
              "        vertical-align: top;\n",
              "    }\n",
              "\n",
              "    .dataframe thead th {\n",
              "        text-align: right;\n",
              "    }\n",
              "</style>\n",
              "<table border=\"1\" class=\"dataframe\">\n",
              "  <thead>\n",
              "    <tr style=\"text-align: right;\">\n",
              "      <th></th>\n",
              "      <th>Full Data</th>\n",
              "      <th>IQR Outlier Removal</th>\n",
              "      <th>Z-score Outlier Removal</th>\n",
              "    </tr>\n",
              "  </thead>\n",
              "  <tbody>\n",
              "    <tr>\n",
              "      <th>count</th>\n",
              "      <td>58632.000000</td>\n",
              "      <td>57537.000000</td>\n",
              "      <td>58026.000000</td>\n",
              "    </tr>\n",
              "    <tr>\n",
              "      <th>mean</th>\n",
              "      <td>38.855557</td>\n",
              "      <td>37.088630</td>\n",
              "      <td>37.771680</td>\n",
              "    </tr>\n",
              "    <tr>\n",
              "      <th>std</th>\n",
              "      <td>28.472219</td>\n",
              "      <td>25.546089</td>\n",
              "      <td>26.496955</td>\n",
              "    </tr>\n",
              "    <tr>\n",
              "      <th>min</th>\n",
              "      <td>0.000000</td>\n",
              "      <td>0.000000</td>\n",
              "      <td>0.000000</td>\n",
              "    </tr>\n",
              "    <tr>\n",
              "      <th>25%</th>\n",
              "      <td>16.500000</td>\n",
              "      <td>16.000000</td>\n",
              "      <td>16.500000</td>\n",
              "    </tr>\n",
              "    <tr>\n",
              "      <th>50%</th>\n",
              "      <td>36.500000</td>\n",
              "      <td>36.000000</td>\n",
              "      <td>36.000000</td>\n",
              "    </tr>\n",
              "    <tr>\n",
              "      <th>75%</th>\n",
              "      <td>55.000000</td>\n",
              "      <td>54.000000</td>\n",
              "      <td>54.500000</td>\n",
              "    </tr>\n",
              "    <tr>\n",
              "      <th>max</th>\n",
              "      <td>224.500000</td>\n",
              "      <td>112.500000</td>\n",
              "      <td>124.000000</td>\n",
              "    </tr>\n",
              "  </tbody>\n",
              "</table>\n",
              "</div>\n",
              "    <div class=\"colab-df-buttons\">\n",
              "\n",
              "  <div class=\"colab-df-container\">\n",
              "    <button class=\"colab-df-convert\" onclick=\"convertToInteractive('df-586c1a93-64aa-417a-9087-75c80354ded4')\"\n",
              "            title=\"Convert this dataframe to an interactive table.\"\n",
              "            style=\"display:none;\">\n",
              "\n",
              "  <svg xmlns=\"http://www.w3.org/2000/svg\" height=\"24px\" viewBox=\"0 -960 960 960\">\n",
              "    <path d=\"M120-120v-720h720v720H120Zm60-500h600v-160H180v160Zm220 220h160v-160H400v160Zm0 220h160v-160H400v160ZM180-400h160v-160H180v160Zm440 0h160v-160H620v160ZM180-180h160v-160H180v160Zm440 0h160v-160H620v160Z\"/>\n",
              "  </svg>\n",
              "    </button>\n",
              "\n",
              "  <style>\n",
              "    .colab-df-container {\n",
              "      display:flex;\n",
              "      gap: 12px;\n",
              "    }\n",
              "\n",
              "    .colab-df-convert {\n",
              "      background-color: #E8F0FE;\n",
              "      border: none;\n",
              "      border-radius: 50%;\n",
              "      cursor: pointer;\n",
              "      display: none;\n",
              "      fill: #1967D2;\n",
              "      height: 32px;\n",
              "      padding: 0 0 0 0;\n",
              "      width: 32px;\n",
              "    }\n",
              "\n",
              "    .colab-df-convert:hover {\n",
              "      background-color: #E2EBFA;\n",
              "      box-shadow: 0px 1px 2px rgba(60, 64, 67, 0.3), 0px 1px 3px 1px rgba(60, 64, 67, 0.15);\n",
              "      fill: #174EA6;\n",
              "    }\n",
              "\n",
              "    .colab-df-buttons div {\n",
              "      margin-bottom: 4px;\n",
              "    }\n",
              "\n",
              "    [theme=dark] .colab-df-convert {\n",
              "      background-color: #3B4455;\n",
              "      fill: #D2E3FC;\n",
              "    }\n",
              "\n",
              "    [theme=dark] .colab-df-convert:hover {\n",
              "      background-color: #434B5C;\n",
              "      box-shadow: 0px 1px 3px 1px rgba(0, 0, 0, 0.15);\n",
              "      filter: drop-shadow(0px 1px 2px rgba(0, 0, 0, 0.3));\n",
              "      fill: #FFFFFF;\n",
              "    }\n",
              "  </style>\n",
              "\n",
              "    <script>\n",
              "      const buttonEl =\n",
              "        document.querySelector('#df-586c1a93-64aa-417a-9087-75c80354ded4 button.colab-df-convert');\n",
              "      buttonEl.style.display =\n",
              "        google.colab.kernel.accessAllowed ? 'block' : 'none';\n",
              "\n",
              "      async function convertToInteractive(key) {\n",
              "        const element = document.querySelector('#df-586c1a93-64aa-417a-9087-75c80354ded4');\n",
              "        const dataTable =\n",
              "          await google.colab.kernel.invokeFunction('convertToInteractive',\n",
              "                                                    [key], {});\n",
              "        if (!dataTable) return;\n",
              "\n",
              "        const docLinkHtml = 'Like what you see? Visit the ' +\n",
              "          '<a target=\"_blank\" href=https://colab.research.google.com/notebooks/data_table.ipynb>data table notebook</a>'\n",
              "          + ' to learn more about interactive tables.';\n",
              "        element.innerHTML = '';\n",
              "        dataTable['output_type'] = 'display_data';\n",
              "        await google.colab.output.renderOutput(dataTable, element);\n",
              "        const docLink = document.createElement('div');\n",
              "        docLink.innerHTML = docLinkHtml;\n",
              "        element.appendChild(docLink);\n",
              "      }\n",
              "    </script>\n",
              "  </div>\n",
              "\n",
              "\n",
              "<div id=\"df-f0747f3b-6d37-4f2b-918b-4dae24db5490\">\n",
              "  <button class=\"colab-df-quickchart\" onclick=\"quickchart('df-f0747f3b-6d37-4f2b-918b-4dae24db5490')\"\n",
              "            title=\"Suggest charts\"\n",
              "            style=\"display:none;\">\n",
              "\n",
              "<svg xmlns=\"http://www.w3.org/2000/svg\" height=\"24px\"viewBox=\"0 0 24 24\"\n",
              "     width=\"24px\">\n",
              "    <g>\n",
              "        <path d=\"M19 3H5c-1.1 0-2 .9-2 2v14c0 1.1.9 2 2 2h14c1.1 0 2-.9 2-2V5c0-1.1-.9-2-2-2zM9 17H7v-7h2v7zm4 0h-2V7h2v10zm4 0h-2v-4h2v4z\"/>\n",
              "    </g>\n",
              "</svg>\n",
              "  </button>\n",
              "\n",
              "<style>\n",
              "  .colab-df-quickchart {\n",
              "      --bg-color: #E8F0FE;\n",
              "      --fill-color: #1967D2;\n",
              "      --hover-bg-color: #E2EBFA;\n",
              "      --hover-fill-color: #174EA6;\n",
              "      --disabled-fill-color: #AAA;\n",
              "      --disabled-bg-color: #DDD;\n",
              "  }\n",
              "\n",
              "  [theme=dark] .colab-df-quickchart {\n",
              "      --bg-color: #3B4455;\n",
              "      --fill-color: #D2E3FC;\n",
              "      --hover-bg-color: #434B5C;\n",
              "      --hover-fill-color: #FFFFFF;\n",
              "      --disabled-bg-color: #3B4455;\n",
              "      --disabled-fill-color: #666;\n",
              "  }\n",
              "\n",
              "  .colab-df-quickchart {\n",
              "    background-color: var(--bg-color);\n",
              "    border: none;\n",
              "    border-radius: 50%;\n",
              "    cursor: pointer;\n",
              "    display: none;\n",
              "    fill: var(--fill-color);\n",
              "    height: 32px;\n",
              "    padding: 0;\n",
              "    width: 32px;\n",
              "  }\n",
              "\n",
              "  .colab-df-quickchart:hover {\n",
              "    background-color: var(--hover-bg-color);\n",
              "    box-shadow: 0 1px 2px rgba(60, 64, 67, 0.3), 0 1px 3px 1px rgba(60, 64, 67, 0.15);\n",
              "    fill: var(--button-hover-fill-color);\n",
              "  }\n",
              "\n",
              "  .colab-df-quickchart-complete:disabled,\n",
              "  .colab-df-quickchart-complete:disabled:hover {\n",
              "    background-color: var(--disabled-bg-color);\n",
              "    fill: var(--disabled-fill-color);\n",
              "    box-shadow: none;\n",
              "  }\n",
              "\n",
              "  .colab-df-spinner {\n",
              "    border: 2px solid var(--fill-color);\n",
              "    border-color: transparent;\n",
              "    border-bottom-color: var(--fill-color);\n",
              "    animation:\n",
              "      spin 1s steps(1) infinite;\n",
              "  }\n",
              "\n",
              "  @keyframes spin {\n",
              "    0% {\n",
              "      border-color: transparent;\n",
              "      border-bottom-color: var(--fill-color);\n",
              "      border-left-color: var(--fill-color);\n",
              "    }\n",
              "    20% {\n",
              "      border-color: transparent;\n",
              "      border-left-color: var(--fill-color);\n",
              "      border-top-color: var(--fill-color);\n",
              "    }\n",
              "    30% {\n",
              "      border-color: transparent;\n",
              "      border-left-color: var(--fill-color);\n",
              "      border-top-color: var(--fill-color);\n",
              "      border-right-color: var(--fill-color);\n",
              "    }\n",
              "    40% {\n",
              "      border-color: transparent;\n",
              "      border-right-color: var(--fill-color);\n",
              "      border-top-color: var(--fill-color);\n",
              "    }\n",
              "    60% {\n",
              "      border-color: transparent;\n",
              "      border-right-color: var(--fill-color);\n",
              "    }\n",
              "    80% {\n",
              "      border-color: transparent;\n",
              "      border-right-color: var(--fill-color);\n",
              "      border-bottom-color: var(--fill-color);\n",
              "    }\n",
              "    90% {\n",
              "      border-color: transparent;\n",
              "      border-bottom-color: var(--fill-color);\n",
              "    }\n",
              "  }\n",
              "</style>\n",
              "\n",
              "  <script>\n",
              "    async function quickchart(key) {\n",
              "      const quickchartButtonEl =\n",
              "        document.querySelector('#' + key + ' button');\n",
              "      quickchartButtonEl.disabled = true;  // To prevent multiple clicks.\n",
              "      quickchartButtonEl.classList.add('colab-df-spinner');\n",
              "      try {\n",
              "        const charts = await google.colab.kernel.invokeFunction(\n",
              "            'suggestCharts', [key], {});\n",
              "      } catch (error) {\n",
              "        console.error('Error during call to suggestCharts:', error);\n",
              "      }\n",
              "      quickchartButtonEl.classList.remove('colab-df-spinner');\n",
              "      quickchartButtonEl.classList.add('colab-df-quickchart-complete');\n",
              "    }\n",
              "    (() => {\n",
              "      let quickchartButtonEl =\n",
              "        document.querySelector('#df-f0747f3b-6d37-4f2b-918b-4dae24db5490 button');\n",
              "      quickchartButtonEl.style.display =\n",
              "        google.colab.kernel.accessAllowed ? 'block' : 'none';\n",
              "    })();\n",
              "  </script>\n",
              "</div>\n",
              "    </div>\n",
              "  </div>\n"
            ],
            "application/vnd.google.colaboratory.intrinsic+json": {
              "type": "dataframe",
              "variable_name": "comparison",
              "summary": "{\n  \"name\": \"comparison\",\n  \"rows\": 8,\n  \"fields\": [\n    {\n      \"column\": \"Full Data\",\n      \"properties\": {\n        \"dtype\": \"number\",\n        \"std\": 20709.467082361913,\n        \"min\": 0.0,\n        \"max\": 58632.0,\n        \"num_unique_values\": 8,\n        \"samples\": [\n          38.85555669259108,\n          36.5,\n          58632.0\n        ],\n        \"semantic_type\": \"\",\n        \"description\": \"\"\n      }\n    },\n    {\n      \"column\": \"IQR Outlier Removal\",\n      \"properties\": {\n        \"dtype\": \"number\",\n        \"std\": 20328.22961027875,\n        \"min\": 0.0,\n        \"max\": 57537.0,\n        \"num_unique_values\": 8,\n        \"samples\": [\n          37.08862992509168,\n          36.0,\n          57537.0\n        ],\n        \"semantic_type\": \"\",\n        \"description\": \"\"\n      }\n    },\n    {\n      \"column\": \"Z-score Outlier Removal\",\n      \"properties\": {\n        \"dtype\": \"number\",\n        \"std\": 20500.40913315722,\n        \"min\": 0.0,\n        \"max\": 58026.0,\n        \"num_unique_values\": 8,\n        \"samples\": [\n          37.771679936580156,\n          36.0,\n          58026.0\n        ],\n        \"semantic_type\": \"\",\n        \"description\": \"\"\n      }\n    }\n  ]\n}"
            }
          },
          "metadata": {},
          "execution_count": 22
        }
      ],
      "source": [
        "describe_full = pd.DataFrame(describe_full)\n",
        "describe_IQR = pd.DataFrame(describe_IQR)\n",
        "describe_zscore = pd.DataFrame(describe_zscore)\n",
        "\n",
        "comparison = pd.concat([describe_full['Concentration'], describe_IQR['Concentration'], describe_zscore['Concentration']], axis=1)\n",
        "comparison.columns = ['Full Data', 'IQR Outlier Removal', 'Z-score Outlier Removal']\n",
        "\n",
        "comparison"
      ]
    },
    {
      "cell_type": "markdown",
      "metadata": {
        "id": "HYGeU8Z6bI5I"
      },
      "source": [
        "# **Linear Interpolation**"
      ]
    },
    {
      "cell_type": "code",
      "execution_count": null,
      "metadata": {
        "id": "39bfpcu7bTx1"
      },
      "outputs": [],
      "source": [
        "from sklearn.metrics import mean_squared_error"
      ]
    },
    {
      "cell_type": "code",
      "source": [
        "indices_to_remove_1 = []\n",
        "for index, row in ozone_charleroi_ori.iterrows():\n",
        "    if pd.isna(row['Concentration']):\n",
        "        indices_to_remove_1.append(index)\n",
        "ozone_charleroi.drop(indices_to_remove_1, inplace=True)\n",
        "ozone_charleroi_ori.drop(indices_to_remove_1, inplace=True)\n",
        "\n",
        "ozone_charleroi = ozone_charleroi.reset_index()\n",
        "ozone_charleroi_ori = ozone_charleroi_ori.reset_index()\n",
        "\n",
        "missing_values = int(len(ozone_charleroi) * obj)\n",
        "random_indices = np.random.choice(ozone_charleroi.index, missing_values, replace=False)\n",
        "ozone_charleroi.loc[random_indices, 'Concentration'] = np.nan\n",
        "ozone_charleroi['Concentration'] = np.interp(ozone_charleroi.index, ozone_charleroi.dropna().index, ozone_charleroi['Concentration'].dropna())"
      ],
      "metadata": {
        "id": "Z4vEjyTnggo4"
      },
      "execution_count": null,
      "outputs": []
    },
    {
      "cell_type": "markdown",
      "source": [
        "missing_values = int(len(ozone_charleroi) * obj)\n",
        "random_indices = np.random.choice(ozone_charleroi.index, missing_values, replace=False)\n",
        "ozone_charleroi.loc[random_indices, 'Concentration'] = np.nan\n",
        "ozone_charleroi['Concentration'] = np.interp(ozone_charleroi.index, ozone_charleroi.dropna().index, ozone_charleroi['Concentration'].dropna())\n",
        "\n",
        "indices_to_remove_1 = []\n",
        "for index, row in ozone_charleroi_ori.iterrows():\n",
        "    if pd.isna(row['Concentration']):\n",
        "        indices_to_remove_1.append(index)\n",
        "ozone_charleroi.drop(indices_to_remove_1, inplace=True)\n",
        "ozone_charleroi_ori.drop(indices_to_remove_1, inplace=True)"
      ],
      "metadata": {
        "id": "mEwYXlyQgxB9"
      }
    },
    {
      "cell_type": "code",
      "source": [
        "ozone_charleroi = ozone_charleroi.loc[random_indices]\n",
        "ozone_charleroi_ori = ozone_charleroi_ori.loc[random_indices]"
      ],
      "metadata": {
        "id": "CvinlZJffMNA"
      },
      "execution_count": null,
      "outputs": []
    },
    {
      "cell_type": "code",
      "execution_count": null,
      "metadata": {
        "id": "YA-C0J5wbuN0"
      },
      "outputs": [],
      "source": [
        "mse_char_inter = mean_squared_error(ozone_charleroi['Concentration'],ozone_charleroi_ori['Concentration'])"
      ]
    },
    {
      "cell_type": "code",
      "execution_count": null,
      "metadata": {
        "colab": {
          "base_uri": "https://localhost:8080/"
        },
        "id": "v8iWIliUbuxt",
        "outputId": "e8a74871-2da1-4d9b-f585-1ee2ef6da661"
      },
      "outputs": [
        {
          "output_type": "execute_result",
          "data": {
            "text/plain": [
              "33.649870590114496"
            ]
          },
          "metadata": {},
          "execution_count": 27
        }
      ],
      "source": [
        "mse_char_inter"
      ]
    },
    {
      "cell_type": "markdown",
      "metadata": {
        "id": "XZeMUWcjif4X"
      },
      "source": [
        "# **ARIMA Interpolation**"
      ]
    },
    {
      "cell_type": "code",
      "execution_count": null,
      "metadata": {
        "id": "ELPzJETF-uzA"
      },
      "outputs": [],
      "source": [
        "ozone_charleroi = pd.read_csv(\"/content/drive/My Drive/DataThesis/ozone_charleroi.csv\")"
      ]
    },
    {
      "cell_type": "code",
      "execution_count": null,
      "metadata": {
        "id": "zZC9URpd_qwh"
      },
      "outputs": [],
      "source": [
        "ozone_charleroi.set_index('DatetimeBegin', inplace=True)\n",
        "ozone_charleroi_ori.set_index('DatetimeBegin', inplace=True)"
      ]
    },
    {
      "cell_type": "code",
      "execution_count": null,
      "metadata": {
        "id": "ujZvDTwCG2Jf"
      },
      "outputs": [],
      "source": [
        "ozone_charleroi_ori = ozone_charleroi.copy()"
      ]
    },
    {
      "cell_type": "code",
      "execution_count": null,
      "metadata": {
        "id": "jlkIfx8Uiklf"
      },
      "outputs": [],
      "source": [
        "from statsmodels.tsa.statespace.sarimax import SARIMAX\n",
        "from sklearn.model_selection import TimeSeriesSplit"
      ]
    },
    {
      "cell_type": "code",
      "execution_count": null,
      "metadata": {
        "id": "_eGCfoSyinBD"
      },
      "outputs": [],
      "source": [
        "p_values = range(1, 4)\n",
        "d_values = range(0, 2)\n",
        "q_values = range(0, 4)"
      ]
    },
    {
      "cell_type": "code",
      "execution_count": null,
      "metadata": {
        "id": "kWC6c_SIin8w"
      },
      "outputs": [],
      "source": [
        "ozone_charleroi = ozone_charleroi.dropna(subset=['Concentration'])\n",
        "ozone_charleroi_ori = ozone_charleroi_ori.dropna(subset=['Concentration'])\n",
        "train_size = int(len(ozone_charleroi) * 0.8)\n",
        "train, test = ozone_charleroi[:train_size], ozone_charleroi[train_size:]"
      ]
    },
    {
      "cell_type": "markdown",
      "source": [
        "best_model = None\n",
        "best_mse = float('inf')\n",
        "\n",
        "for p in p_values:\n",
        "    for d in d_values:\n",
        "        for q in q_values:\n",
        "            order = (p, d, q)\n",
        "            mse_values = []\n",
        "\n",
        "            # Time Series Cross-Validation\n",
        "            ts_cv = TimeSeriesSplit(n_splits=2)\n",
        "            for train_index, val_index in ts_cv.split(train):\n",
        "                train.index = pd.to_datetime(train.index, format='%Y-%m-%d %H:%M:%S')\n",
        "                train_fold, val_fold = train.iloc[train_index], train.iloc[val_index]\n",
        "\n",
        "                if not train_fold.index.is_monotonic_increasing:\n",
        "                  train_fold = train_fold.sort_index()\n",
        "\n",
        "                # Fit ARIMA model\n",
        "                model = SARIMAX(train_fold['Concentration'], order=order, seasonal_order=(1, 1, 1, 24))\n",
        "                #model = SARIMAX(train_fold['Concentration'], order=order)\n",
        "                fit_model = model.fit(disp=False)\n",
        "\n",
        "                # Make predictions on the validation set\n",
        "                predictions = fit_model.get_forecast(steps=len(val_fold))\n",
        "                val_fold = val_fold.fillna(0)\n",
        "                mse = mean_squared_error(val_fold, predictions.predicted_mean)\n",
        "                mse_values.append(mse)\n",
        "\n",
        "            # Calculate mean MSE for the parameter combination\n",
        "            avg_mse = np.mean(mse_values)\n",
        "\n",
        "            # Update the best model if the current one is better\n",
        "            if avg_mse < best_mse:\n",
        "                best_mse = avg_mse\n",
        "                best_model = order\n",
        "                print(best_model)\n",
        "            print(order, avg_mse)"
      ],
      "metadata": {
        "id": "kQHlTP8deyCA"
      }
    },
    {
      "cell_type": "code",
      "source": [
        "best_model = (1, 0, 0)"
      ],
      "metadata": {
        "id": "C-9pk4qSe96E"
      },
      "execution_count": null,
      "outputs": []
    },
    {
      "cell_type": "code",
      "execution_count": null,
      "metadata": {
        "colab": {
          "base_uri": "https://localhost:8080/"
        },
        "id": "oC1OrRsMi0Qd",
        "outputId": "e52093b7-a2f2-4f76-a8ad-8aaa0ae13a7a"
      },
      "outputs": [
        {
          "output_type": "stream",
          "name": "stdout",
          "text": [
            "(1, 0, 0)\n"
          ]
        }
      ],
      "source": [
        "print(best_model)"
      ]
    },
    {
      "cell_type": "code",
      "execution_count": null,
      "metadata": {
        "id": "MmL0tRbpi0wR",
        "colab": {
          "base_uri": "https://localhost:8080/"
        },
        "outputId": "2c56d79d-a02c-4995-8e4b-e20c291981a8"
      },
      "outputs": [
        {
          "output_type": "stream",
          "name": "stderr",
          "text": [
            "<ipython-input-36-85de3493670e>:3: SettingWithCopyWarning: \n",
            "A value is trying to be set on a copy of a slice from a DataFrame\n",
            "\n",
            "See the caveats in the documentation: https://pandas.pydata.org/pandas-docs/stable/user_guide/indexing.html#returning-a-view-versus-a-copy\n",
            "  ozone_charleroi.loc[random_indices, 'Concentration'] = np.nan\n"
          ]
        }
      ],
      "source": [
        "missing_values = int(len(ozone_charleroi) * obj)\n",
        "random_indices = np.random.choice(ozone_charleroi.index, missing_values, replace=False)\n",
        "ozone_charleroi.loc[random_indices, 'Concentration'] = np.nan"
      ]
    },
    {
      "cell_type": "code",
      "execution_count": null,
      "metadata": {
        "colab": {
          "base_uri": "https://localhost:8080/"
        },
        "id": "arl1_Nxdi335",
        "outputId": "6fd8d3dd-752b-42bf-b392-b9f64747f8a7"
      },
      "outputs": [
        {
          "output_type": "stream",
          "name": "stderr",
          "text": [
            "/usr/local/lib/python3.10/dist-packages/statsmodels/tsa/base/tsa_model.py:473: ValueWarning: A date index has been provided, but it has no associated frequency information and so will be ignored when e.g. forecasting.\n",
            "  self._init_dates(dates, freq)\n",
            "/usr/local/lib/python3.10/dist-packages/statsmodels/tsa/base/tsa_model.py:473: ValueWarning: A date index has been provided, but it has no associated frequency information and so will be ignored when e.g. forecasting.\n",
            "  self._init_dates(dates, freq)\n",
            "/usr/local/lib/python3.10/dist-packages/statsmodels/tsa/base/tsa_model.py:836: ValueWarning: No supported index is available. Prediction results will be given with an integer index beginning at `start`.\n",
            "  return get_prediction_index(\n",
            "/usr/local/lib/python3.10/dist-packages/statsmodels/tsa/base/tsa_model.py:836: FutureWarning: No supported index is available. In the next version, calling this method in a model without a supported index will result in an exception.\n",
            "  return get_prediction_index(\n"
          ]
        }
      ],
      "source": [
        "train_data = ozone_charleroi.loc[ozone_charleroi['Concentration'].notna(), 'Concentration']\n",
        "val_data = ozone_charleroi.loc[ozone_charleroi['Concentration'].isna(), 'Concentration']\n",
        "\n",
        "if not train_data.index.is_monotonic_increasing:\n",
        "    train_data = train_data.sort_index()\n",
        "\n",
        "model = SARIMAX(train_data, order=best_model, seasonal_order=(1, 1, 1, 24))\n",
        "fit_model = model.fit(disp=False)\n",
        "\n",
        "predictions = fit_model.get_forecast(steps=len(val_data))\n",
        "test_data = ozone_charleroi_ori.loc[random_indices, 'Concentration']\n",
        "mse_ARIMA_char = mean_squared_error(test_data, predictions.predicted_mean)"
      ]
    },
    {
      "cell_type": "code",
      "execution_count": null,
      "metadata": {
        "colab": {
          "base_uri": "https://localhost:8080/"
        },
        "id": "npnAjJwki58v",
        "outputId": "10e39154-5959-49a8-d070-ca270662ebd6"
      },
      "outputs": [
        {
          "output_type": "execute_result",
          "data": {
            "text/plain": [
              "827.2874647749494"
            ]
          },
          "metadata": {},
          "execution_count": 38
        }
      ],
      "source": [
        "mse_ARIMA_char"
      ]
    },
    {
      "cell_type": "markdown",
      "metadata": {
        "id": "9DzccQs3shjl"
      },
      "source": [
        "# **Autoencoder**"
      ]
    },
    {
      "cell_type": "code",
      "execution_count": null,
      "metadata": {
        "id": "mlquEq_O_GCe"
      },
      "outputs": [],
      "source": [
        "ozone_charleroi = pd.read_csv(\"/content/drive/My Drive/DataThesis/ozone_charleroi.csv\")\n",
        "ozone_charleroi_ori = pd.read_csv(\"/content/drive/My Drive/DataThesis/ozone_charleroi.csv\")"
      ]
    },
    {
      "cell_type": "code",
      "execution_count": null,
      "metadata": {
        "id": "6O4498y1smU6"
      },
      "outputs": [],
      "source": [
        "import tensorflow as tf\n",
        "from tensorflow.keras.layers import Input, Dense, Concatenate\n",
        "from tensorflow.keras.models import Model"
      ]
    },
    {
      "cell_type": "code",
      "execution_count": null,
      "metadata": {
        "id": "cCXniAYYsmRH"
      },
      "outputs": [],
      "source": [
        "ozone_charleroi['DatetimeBegin'] = pd.to_datetime(ozone_charleroi['DatetimeBegin'])\n",
        "ozone_charleroi['date'] = ozone_charleroi['DatetimeBegin'].dt.date\n",
        "ozone_charleroi['hour'] = ozone_charleroi['DatetimeBegin'].dt.hour\n",
        "\n",
        "# Sort DataFrame by date and hour\n",
        "ozone_charleroi.sort_values(by=['date', 'hour'], inplace=True)\n",
        "ozone_charleroi['date'] = ozone_charleroi['date'].apply(lambda x: x.toordinal())\n",
        "ozone_charleroi.drop(columns=['DatetimeBegin'], inplace=True)\n",
        "\n",
        "# Normalizing the Hour column\n",
        "min_hour = ozone_charleroi['hour'].min()\n",
        "max_hour = ozone_charleroi['hour'].max()\n",
        "ozone_charleroi['normalized_hour'] = ozone_charleroi['hour'].apply(lambda x: (x - min_hour) / (max_hour - min_hour))\n",
        "\n",
        "ozone_charleroi_ori = ozone_charleroi.copy()"
      ]
    },
    {
      "cell_type": "code",
      "execution_count": null,
      "metadata": {
        "id": "rUEQpqyIroo-"
      },
      "outputs": [],
      "source": [
        "# Preprocessing: Replace missing values with a placeholder (e.g., -1)\n",
        "ozone_charleroi['Concentration'].fillna(-1, inplace=True)\n",
        "\n",
        "# Split data into observed and missing values\n",
        "ozone_charleroi = ozone_charleroi[ozone_charleroi['Concentration'] != -1]"
      ]
    },
    {
      "cell_type": "code",
      "execution_count": null,
      "metadata": {
        "id": "qLUNwMuyrr0i"
      },
      "outputs": [],
      "source": [
        "missing_values = int(len(ozone_charleroi) * obj)\n",
        "random_indices = np.random.choice(ozone_charleroi.index, missing_values, replace=False)\n",
        "random_indices.sort()\n",
        "ozone_charleroi.loc[random_indices, 'Concentration'] = -1\n",
        "\n",
        "observed_data = ozone_charleroi[ozone_charleroi['Concentration'] != -1]\n",
        "missing_data = ozone_charleroi[ozone_charleroi['Concentration'] == -1]"
      ]
    },
    {
      "cell_type": "code",
      "execution_count": null,
      "metadata": {
        "colab": {
          "base_uri": "https://localhost:8080/"
        },
        "id": "M3J-U08M6hLN",
        "outputId": "af9d7e0a-56c6-4902-de48-9997bcb880ef"
      },
      "outputs": [
        {
          "output_type": "stream",
          "name": "stdout",
          "text": [
            "Epoch 1/50\n",
            "294/294 [==============================] - 2s 3ms/step - loss: 152954.3750 - val_loss: 775.4472\n",
            "Epoch 2/50\n",
            "294/294 [==============================] - 1s 2ms/step - loss: 823.4287 - val_loss: 775.4582\n",
            "Epoch 3/50\n",
            "294/294 [==============================] - 1s 2ms/step - loss: 825.2278 - val_loss: 782.1389\n",
            "Epoch 4/50\n",
            "294/294 [==============================] - 1s 2ms/step - loss: 825.4308 - val_loss: 777.0708\n",
            "Epoch 5/50\n",
            "294/294 [==============================] - 1s 2ms/step - loss: 824.7198 - val_loss: 770.2562\n",
            "Epoch 6/50\n",
            "294/294 [==============================] - 1s 2ms/step - loss: 824.3831 - val_loss: 778.5712\n",
            "Epoch 7/50\n",
            "294/294 [==============================] - 1s 2ms/step - loss: 822.8149 - val_loss: 772.8129\n",
            "Epoch 8/50\n",
            "294/294 [==============================] - 1s 2ms/step - loss: 823.2670 - val_loss: 768.7439\n",
            "Epoch 9/50\n",
            "294/294 [==============================] - 1s 2ms/step - loss: 821.0473 - val_loss: 772.0383\n",
            "Epoch 10/50\n",
            "294/294 [==============================] - 1s 2ms/step - loss: 818.5800 - val_loss: 767.5126\n",
            "Epoch 11/50\n",
            "294/294 [==============================] - 1s 2ms/step - loss: 817.9333 - val_loss: 770.4721\n",
            "Epoch 12/50\n",
            "294/294 [==============================] - 1s 2ms/step - loss: 815.1403 - val_loss: 762.7159\n",
            "Epoch 13/50\n",
            "294/294 [==============================] - 1s 2ms/step - loss: 809.1581 - val_loss: 749.2229\n",
            "Epoch 14/50\n",
            "294/294 [==============================] - 1s 2ms/step - loss: 796.0109 - val_loss: 731.6937\n",
            "Epoch 15/50\n",
            "294/294 [==============================] - 1s 2ms/step - loss: 779.4927 - val_loss: 732.6030\n",
            "Epoch 16/50\n",
            "294/294 [==============================] - 1s 2ms/step - loss: 755.0093 - val_loss: 657.3392\n",
            "Epoch 17/50\n",
            "294/294 [==============================] - 1s 2ms/step - loss: 754.8627 - val_loss: 642.3893\n",
            "Epoch 18/50\n",
            "294/294 [==============================] - 1s 2ms/step - loss: 696.4283 - val_loss: 552.7556\n",
            "Epoch 19/50\n",
            "294/294 [==============================] - 1s 2ms/step - loss: 731.5370 - val_loss: 720.6479\n",
            "Epoch 20/50\n",
            "294/294 [==============================] - 1s 2ms/step - loss: 698.6448 - val_loss: 2317.0024\n",
            "Epoch 21/50\n",
            "294/294 [==============================] - 1s 2ms/step - loss: 1150.6677 - val_loss: 768.5184\n",
            "Epoch 22/50\n",
            "294/294 [==============================] - 1s 2ms/step - loss: 818.7629 - val_loss: 769.6520\n",
            "Epoch 23/50\n",
            "294/294 [==============================] - 1s 2ms/step - loss: 818.7846 - val_loss: 770.7637\n",
            "Epoch 24/50\n",
            "294/294 [==============================] - 1s 2ms/step - loss: 818.7424 - val_loss: 769.3711\n",
            "Epoch 25/50\n",
            "294/294 [==============================] - 1s 2ms/step - loss: 818.6530 - val_loss: 768.4516\n",
            "Epoch 26/50\n",
            "294/294 [==============================] - 1s 2ms/step - loss: 818.8813 - val_loss: 768.5208\n",
            "Epoch 27/50\n",
            "294/294 [==============================] - 1s 2ms/step - loss: 818.7999 - val_loss: 769.1119\n",
            "Epoch 28/50\n",
            "294/294 [==============================] - 1s 2ms/step - loss: 818.7921 - val_loss: 768.8481\n",
            "Epoch 29/50\n",
            "294/294 [==============================] - 1s 2ms/step - loss: 818.8062 - val_loss: 768.4359\n",
            "Epoch 30/50\n",
            "294/294 [==============================] - 1s 2ms/step - loss: 818.7699 - val_loss: 768.5740\n",
            "Epoch 31/50\n",
            "294/294 [==============================] - 1s 2ms/step - loss: 818.8436 - val_loss: 768.8036\n",
            "Epoch 32/50\n",
            "294/294 [==============================] - 1s 2ms/step - loss: 818.8903 - val_loss: 768.4019\n",
            "Epoch 33/50\n",
            "294/294 [==============================] - 1s 2ms/step - loss: 818.7814 - val_loss: 769.4655\n",
            "Epoch 34/50\n",
            "294/294 [==============================] - 1s 2ms/step - loss: 818.7276 - val_loss: 770.6132\n",
            "Epoch 35/50\n",
            "294/294 [==============================] - 1s 2ms/step - loss: 818.7634 - val_loss: 771.1715\n",
            "Epoch 36/50\n",
            "294/294 [==============================] - 1s 2ms/step - loss: 818.8964 - val_loss: 770.0518\n",
            "Epoch 37/50\n",
            "294/294 [==============================] - 1s 2ms/step - loss: 818.8616 - val_loss: 770.0239\n",
            "Epoch 38/50\n",
            "294/294 [==============================] - 1s 2ms/step - loss: 818.7513 - val_loss: 770.3437\n",
            "Epoch 39/50\n",
            "294/294 [==============================] - 1s 2ms/step - loss: 818.8547 - val_loss: 770.4201\n",
            "Epoch 40/50\n",
            "294/294 [==============================] - 1s 2ms/step - loss: 818.9100 - val_loss: 768.4108\n",
            "Epoch 41/50\n",
            "294/294 [==============================] - 1s 2ms/step - loss: 818.6885 - val_loss: 769.3846\n",
            "Epoch 42/50\n",
            "294/294 [==============================] - 1s 2ms/step - loss: 818.7574 - val_loss: 768.4205\n",
            "Epoch 43/50\n",
            "294/294 [==============================] - 1s 2ms/step - loss: 818.6880 - val_loss: 770.8731\n",
            "Epoch 44/50\n",
            "294/294 [==============================] - 1s 2ms/step - loss: 818.9346 - val_loss: 769.6503\n",
            "Epoch 45/50\n",
            "294/294 [==============================] - 1s 2ms/step - loss: 818.8644 - val_loss: 769.6469\n",
            "Epoch 46/50\n",
            "294/294 [==============================] - 1s 2ms/step - loss: 818.8047 - val_loss: 768.5168\n",
            "Epoch 47/50\n",
            "294/294 [==============================] - 1s 2ms/step - loss: 818.8487 - val_loss: 769.0031\n",
            "Epoch 48/50\n",
            "294/294 [==============================] - 1s 2ms/step - loss: 818.6700 - val_loss: 769.1885\n",
            "Epoch 49/50\n",
            "294/294 [==============================] - 1s 2ms/step - loss: 818.7328 - val_loss: 770.5945\n",
            "Epoch 50/50\n",
            "294/294 [==============================] - 1s 2ms/step - loss: 818.7950 - val_loss: 768.8967\n",
            "367/367 [==============================] - 1s 1ms/step\n"
          ]
        },
        {
          "output_type": "stream",
          "name": "stderr",
          "text": [
            "<ipython-input-44-35aa804b4d06>:40: SettingWithCopyWarning: \n",
            "A value is trying to be set on a copy of a slice from a DataFrame.\n",
            "Try using .loc[row_indexer,col_indexer] = value instead\n",
            "\n",
            "See the caveats in the documentation: https://pandas.pydata.org/pandas-docs/stable/user_guide/indexing.html#returning-a-view-versus-a-copy\n",
            "  missing_data['Concentration'] = predicted_concentrations.flatten()\n"
          ]
        }
      ],
      "source": [
        "# Define the autoencoder architecture\n",
        "input_dim_concentration = 1  # Concentration feature\n",
        "input_dim_date = 1  # Date feature\n",
        "input_dim_hour = 1  # Hour feature\n",
        "encoding_dim = 2  # Adjust the size of the encoded representation as needed\n",
        "\n",
        "input_concentration = Input(shape=(input_dim_concentration,))\n",
        "input_date = Input(shape=(input_dim_date,))\n",
        "input_hour = Input(shape=(input_dim_hour,))\n",
        "\n",
        "# Concatenate inputs\n",
        "concatenated = Concatenate()([input_concentration, input_date, input_hour])\n",
        "\n",
        "# Encoder layers\n",
        "encoded = Dense(32, activation='relu')(concatenated)  # First hidden layer\n",
        "encoded = Dense(16, activation='relu')(encoded)      # Second hidden layer\n",
        "encoded = Dense(8, activation='relu')(encoded)      # Third hidden layer\n",
        "encoded = Dense(encoding_dim, activation='relu')(encoded)  # Encoding layer\n",
        "\n",
        "# Decoder layers\n",
        "decoded = Dense(8, activation='relu')(encoded)      # First hidden layer in decoder\n",
        "decoded = Dense(16, activation='relu')(decoded)      # Second hidden layer in decoder\n",
        "decoded = Dense(32, activation='relu')(decoded)      # Third hidden layer in decoder\n",
        "decoded = Dense(input_dim_concentration, activation='linear')(decoded)\n",
        "\n",
        "autoencoder = Model([input_concentration, input_date, input_hour], decoded)\n",
        "\n",
        "# Compile the model\n",
        "autoencoder.compile(optimizer='adam', loss='mean_squared_error')\n",
        "\n",
        "# Train the autoencoder using only observed data\n",
        "autoencoder.fit([observed_data['Concentration'], observed_data['date'], observed_data['normalized_hour']],\n",
        "                observed_data['Concentration'],\n",
        "                epochs=50, batch_size=128, shuffle=True, validation_split=0.2)\n",
        "\n",
        "# Predict concentrations for missing dates\n",
        "predicted_concentrations = autoencoder.predict([missing_data['Concentration'], missing_data['date'], missing_data['normalized_hour']])\n",
        "\n",
        "# Fill in the missing values in the DataFrame with the predicted values\n",
        "missing_data['Concentration'] = predicted_concentrations.flatten()\n",
        "\n",
        "to_pred = ozone_charleroi_ori.loc[random_indices]\n",
        "to_pred_concentration = to_pred['Concentration'].to_numpy()\n",
        "mse_autoencoder = mean_squared_error(to_pred_concentration, missing_data['Concentration'])"
      ]
    },
    {
      "cell_type": "code",
      "execution_count": null,
      "metadata": {
        "colab": {
          "base_uri": "https://localhost:8080/"
        },
        "id": "V51cdJPKy4ja",
        "outputId": "f2d5ec15-8540-41c1-865e-d68aca4e4d88"
      },
      "outputs": [
        {
          "output_type": "execute_result",
          "data": {
            "text/plain": [
              "818.7212644216107"
            ]
          },
          "metadata": {},
          "execution_count": 45
        }
      ],
      "source": [
        "mse_autoencoder"
      ]
    },
    {
      "cell_type": "markdown",
      "source": [
        "# **LSTM Architecture**"
      ],
      "metadata": {
        "id": "wcSV6i5mS9o7"
      }
    },
    {
      "cell_type": "code",
      "source": [
        "from sklearn.model_selection import train_test_split\n",
        "from keras.models import Sequential\n",
        "from keras.layers import LSTM, Dense, Dropout"
      ],
      "metadata": {
        "id": "qH0rLK0CTEe7"
      },
      "execution_count": null,
      "outputs": []
    },
    {
      "cell_type": "code",
      "source": [
        "ozone_charleroi = pd.read_csv(\"/content/drive/My Drive/DataThesis/ozone_charleroi.csv\")"
      ],
      "metadata": {
        "id": "TMbzVK3kTOw-"
      },
      "execution_count": null,
      "outputs": []
    },
    {
      "cell_type": "code",
      "source": [
        "indices_to_remove_1 = []\n",
        "for index, row in ozone_charleroi.iterrows():\n",
        "    if pd.isna(row['Concentration']):\n",
        "        indices_to_remove_1.append(index)\n",
        "ozone_charleroi.drop(indices_to_remove_1, inplace=True)"
      ],
      "metadata": {
        "id": "EbCahi0lZMkC"
      },
      "execution_count": null,
      "outputs": []
    },
    {
      "cell_type": "code",
      "source": [
        "ozone_charleroi.set_index('DatetimeBegin', inplace=True)"
      ],
      "metadata": {
        "id": "Rj3EAGjaUUnh"
      },
      "execution_count": null,
      "outputs": []
    },
    {
      "cell_type": "code",
      "source": [
        "def create_sequences(data, sequence_length):\n",
        "    X, y = [], []\n",
        "    for i in range(len(data) - sequence_length):\n",
        "        X.append(data[i:i+sequence_length])\n",
        "        y.append(data[i+sequence_length])\n",
        "    return np.array(X), np.array(y)"
      ],
      "metadata": {
        "id": "KSunfcGUUpVk"
      },
      "execution_count": null,
      "outputs": []
    },
    {
      "cell_type": "code",
      "source": [
        "sequence_length = 24  # Define how many past time steps to use for prediction\n",
        "\n",
        "X, y = create_sequences(ozone_charleroi['Concentration'], sequence_length)\n",
        "\n",
        "# Train-test split\n",
        "X_train, X_test, y_train, y_test = train_test_split(X, y, test_size=obj, random_state=19)"
      ],
      "metadata": {
        "id": "vY7g9pm8UuzL"
      },
      "execution_count": null,
      "outputs": []
    },
    {
      "cell_type": "code",
      "source": [
        "X_train = X_train.reshape(X_train.shape[0], X_train.shape[1] ,1)\n",
        "X_test = X_test.reshape(X_test.shape[0], X_test.shape[1], 1)"
      ],
      "metadata": {
        "id": "zr5uV0h4VwTw"
      },
      "execution_count": null,
      "outputs": []
    },
    {
      "cell_type": "code",
      "source": [
        "# Build LSTM model\n",
        "model = Sequential()\n",
        "model.add(LSTM(units=64, return_sequences=True, input_shape=(X_train.shape[1], X_train.shape[2])))\n",
        "#model.add(Dropout(0.2))\n",
        "model.add(LSTM(units=32, return_sequences=True))\n",
        "#model.add(Dropout(0.2))\n",
        "model.add(LSTM(units=16, return_sequences=True))\n",
        "#model.add(Dropout(0.2))\n",
        "model.add(LSTM(units=8))\n",
        "#model.add(Dropout(0.2))\n",
        "model.add(Dense(units=1))\n",
        "\n",
        "# Compile the model\n",
        "model.compile(optimizer='adam', loss='mean_squared_error')\n",
        "\n",
        "# Train the model\n",
        "model.fit(X_train, y_train, epochs=10, batch_size=16, verbose=1)\n",
        "\n",
        "# Evaluate the model\n",
        "loss = model.evaluate(X_test, y_test)\n",
        "mse_LSTM = loss\n",
        "print(\"Test Loss:\", loss)"
      ],
      "metadata": {
        "colab": {
          "base_uri": "https://localhost:8080/"
        },
        "id": "wKShnQLMVCgf",
        "outputId": "da696414-c9b9-4da6-ca1f-2d0c961bf6fd"
      },
      "execution_count": null,
      "outputs": [
        {
          "output_type": "stream",
          "name": "stdout",
          "text": [
            "Epoch 1/10\n",
            "2931/2931 [==============================] - 105s 33ms/step - loss: 1458.1748\n",
            "Epoch 2/10\n",
            "2931/2931 [==============================] - 98s 34ms/step - loss: 690.7313\n",
            "Epoch 3/10\n",
            "2931/2931 [==============================] - 98s 33ms/step - loss: 313.3679\n",
            "Epoch 4/10\n",
            "2931/2931 [==============================] - 99s 34ms/step - loss: 180.3506\n",
            "Epoch 5/10\n",
            "2931/2931 [==============================] - 100s 34ms/step - loss: 123.6620\n",
            "Epoch 6/10\n",
            "2931/2931 [==============================] - 101s 35ms/step - loss: 96.6930\n",
            "Epoch 7/10\n",
            "2931/2931 [==============================] - 99s 34ms/step - loss: 82.3387\n",
            "Epoch 8/10\n",
            "2931/2931 [==============================] - 98s 34ms/step - loss: 74.2807\n",
            "Epoch 9/10\n",
            "2931/2931 [==============================] - 101s 35ms/step - loss: 69.3375\n",
            "Epoch 10/10\n",
            "2931/2931 [==============================] - 98s 33ms/step - loss: 66.1528\n",
            "367/367 [==============================] - 6s 12ms/step - loss: 67.5256\n",
            "Test Loss: 67.52559661865234\n"
          ]
        }
      ]
    },
    {
      "cell_type": "markdown",
      "source": [
        "10 epoch, batch 32, loss 97, tiempo 6 mins +-\n",
        "\n",
        "10 epoch, batch 16, loss 67, tiempo 18 mins +-"
      ],
      "metadata": {
        "id": "UTS1bIJxFUp5"
      }
    },
    {
      "cell_type": "markdown",
      "metadata": {
        "id": "YMIfuRIoqGSU"
      },
      "source": [
        "# **GAN**"
      ]
    },
    {
      "cell_type": "code",
      "execution_count": null,
      "metadata": {
        "id": "wb6WvN70qKtj"
      },
      "outputs": [],
      "source": [
        "ozone_charleroi = pd.read_csv(\"/content/drive/My Drive/DataThesis/ozone_charleroi.csv\")\n",
        "ozone_charleroi_ori = pd.read_csv(\"/content/drive/My Drive/DataThesis/ozone_charleroi.csv\")"
      ]
    },
    {
      "cell_type": "code",
      "execution_count": null,
      "metadata": {
        "id": "ZHxOMJgTqPfO"
      },
      "outputs": [],
      "source": [
        "from tensorflow.keras import layers, models"
      ]
    },
    {
      "cell_type": "code",
      "execution_count": null,
      "metadata": {
        "id": "qTo5nMl2qcTX"
      },
      "outputs": [],
      "source": [
        "# Generator network\n",
        "def build_generator(latent_dim, output_dim):\n",
        "    model = models.Sequential([\n",
        "        layers.Dense(128, input_dim=latent_dim, activation='relu'),\n",
        "        layers.Dense(256, activation='relu'),\n",
        "        layers.Dense(output_dim, activation='tanh')\n",
        "    ])\n",
        "    return model\n",
        "\n",
        "# Discriminator network\n",
        "def build_discriminator(input_dim):\n",
        "    model = models.Sequential([\n",
        "        layers.Dense(256, input_dim=input_dim, activation='relu'),\n",
        "        layers.Dense(128, activation='relu'),\n",
        "        layers.Dense(1, activation='sigmoid')\n",
        "    ])\n",
        "    model.compile(loss='binary_crossentropy', optimizer='adam', metrics=['accuracy'])\n",
        "    return model\n",
        "\n",
        "# Full GAN model\n",
        "def build_gan(generator, discriminator):\n",
        "    discriminator.trainable = False\n",
        "    model = models.Sequential()\n",
        "    model.add(generator)\n",
        "    model.add(discriminator)\n",
        "    model.compile(loss='binary_crossentropy', optimizer='adam')\n",
        "    return model"
      ]
    },
    {
      "cell_type": "code",
      "execution_count": null,
      "metadata": {
        "id": "QMeqwjZwqgde"
      },
      "outputs": [],
      "source": [
        "# Training loop\n",
        "def train_gan(generator, discriminator, gan, data, epochs, batch_size):\n",
        "    for epoch in range(epochs):\n",
        "        # Select random indices for the batch\n",
        "        idx = np.random.randint(0, len(data), batch_size)\n",
        "\n",
        "        # Convert array indices to TensorFlow tensor\n",
        "        idx_tf = tf.convert_to_tensor(idx, dtype=tf.int32)\n",
        "\n",
        "        # Select a random batch of missing data\n",
        "        missing_data_reshaped = tf.reshape(missing_data, (batch_size, latent_dim))\n",
        "        generated_data = generator.predict(missing_data_reshaped)\n",
        "\n",
        "        # Generate concentration values for missing data\n",
        "        generated_data = generator.predict(missing_data)\n",
        "\n",
        "        # Labels for generated data\n",
        "        labels = np.ones((batch_size, 1))\n",
        "\n",
        "        # Train discriminator\n",
        "        d_loss = discriminator.train_on_batch(np.concatenate([missing_data, generated_data]), labels)\n",
        "\n",
        "        # Train generator\n",
        "        g_loss = gan.train_on_batch(missing_data, labels)\n",
        "\n",
        "        # Print progress\n",
        "        print(f\"Epoch {epoch}, Discriminator Loss: {d_loss}, Generator Loss: {g_loss}\")"
      ]
    },
    {
      "cell_type": "code",
      "execution_count": null,
      "metadata": {
        "id": "HJsNwUGPq6j1"
      },
      "outputs": [],
      "source": [
        "latent_dim = 100\n",
        "output_dim = 1  # Output dimension for concentration values\n",
        "epochs = 1000\n",
        "batch_size = 32"
      ]
    },
    {
      "cell_type": "code",
      "execution_count": null,
      "metadata": {
        "id": "fXP1UO8JsDCY"
      },
      "outputs": [],
      "source": [
        "ozone_charleroi.loc[np.random.choice(ozone_charleroi.index, size=20, replace=False), 'Concentration'] = np.nan"
      ]
    },
    {
      "cell_type": "code",
      "execution_count": null,
      "metadata": {
        "id": "JQeHzxen2iCz"
      },
      "outputs": [],
      "source": [
        "ozone_charleroi = ozone_charleroi.drop(columns=['DatetimeBegin'])"
      ]
    },
    {
      "cell_type": "code",
      "execution_count": null,
      "metadata": {
        "id": "PncDNKqosDyf"
      },
      "outputs": [],
      "source": [
        "training_data = ozone_charleroi.dropna().values"
      ]
    },
    {
      "cell_type": "code",
      "execution_count": null,
      "metadata": {
        "id": "xbaycY1BsDv-"
      },
      "outputs": [],
      "source": [
        "generator = build_generator(latent_dim, output_dim)\n",
        "discriminator = build_discriminator(output_dim)\n",
        "gan = build_gan(generator, discriminator)"
      ]
    },
    {
      "cell_type": "code",
      "execution_count": null,
      "metadata": {
        "colab": {
          "base_uri": "https://localhost:8080/",
          "height": 353
        },
        "id": "RqlTdcS4sDs3",
        "outputId": "d5ae9926-0944-48ab-9325-9764c966e0a8"
      },
      "outputs": [
        {
          "output_type": "error",
          "ename": "InvalidArgumentError",
          "evalue": "{{function_node __wrapped__Reshape_device_/job:localhost/replica:0/task:0/device:CPU:0}} Input to reshape is a tensor with 46904 values, but the requested shape has 3200 [Op:Reshape]",
          "traceback": [
            "\u001b[0;31m---------------------------------------------------------------------------\u001b[0m",
            "\u001b[0;31mInvalidArgumentError\u001b[0m                      Traceback (most recent call last)",
            "\u001b[0;32m<ipython-input-63-22944c51dcc1>\u001b[0m in \u001b[0;36m<cell line: 5>\u001b[0;34m()\u001b[0m\n\u001b[1;32m      3\u001b[0m \u001b[0;34m\u001b[0m\u001b[0m\n\u001b[1;32m      4\u001b[0m \u001b[0;31m# Train GAN\u001b[0m\u001b[0;34m\u001b[0m\u001b[0;34m\u001b[0m\u001b[0m\n\u001b[0;32m----> 5\u001b[0;31m \u001b[0mtrain_gan\u001b[0m\u001b[0;34m(\u001b[0m\u001b[0mgenerator\u001b[0m\u001b[0;34m,\u001b[0m \u001b[0mdiscriminator\u001b[0m\u001b[0;34m,\u001b[0m \u001b[0mgan\u001b[0m\u001b[0;34m,\u001b[0m \u001b[0mtraining_data_tf\u001b[0m\u001b[0;34m,\u001b[0m \u001b[0mepochs\u001b[0m\u001b[0;34m,\u001b[0m \u001b[0mbatch_size\u001b[0m\u001b[0;34m)\u001b[0m\u001b[0;34m\u001b[0m\u001b[0;34m\u001b[0m\u001b[0m\n\u001b[0m",
            "\u001b[0;32m<ipython-input-57-e6d5ec8bd763>\u001b[0m in \u001b[0;36mtrain_gan\u001b[0;34m(generator, discriminator, gan, data, epochs, batch_size)\u001b[0m\n\u001b[1;32m      9\u001b[0m \u001b[0;34m\u001b[0m\u001b[0m\n\u001b[1;32m     10\u001b[0m         \u001b[0;31m# Select a random batch of missing data\u001b[0m\u001b[0;34m\u001b[0m\u001b[0;34m\u001b[0m\u001b[0m\n\u001b[0;32m---> 11\u001b[0;31m         \u001b[0mmissing_data_reshaped\u001b[0m \u001b[0;34m=\u001b[0m \u001b[0mtf\u001b[0m\u001b[0;34m.\u001b[0m\u001b[0mreshape\u001b[0m\u001b[0;34m(\u001b[0m\u001b[0mmissing_data\u001b[0m\u001b[0;34m,\u001b[0m \u001b[0;34m(\u001b[0m\u001b[0mbatch_size\u001b[0m\u001b[0;34m,\u001b[0m \u001b[0mlatent_dim\u001b[0m\u001b[0;34m)\u001b[0m\u001b[0;34m)\u001b[0m\u001b[0;34m\u001b[0m\u001b[0;34m\u001b[0m\u001b[0m\n\u001b[0m\u001b[1;32m     12\u001b[0m         \u001b[0mgenerated_data\u001b[0m \u001b[0;34m=\u001b[0m \u001b[0mgenerator\u001b[0m\u001b[0;34m.\u001b[0m\u001b[0mpredict\u001b[0m\u001b[0;34m(\u001b[0m\u001b[0mmissing_data_reshaped\u001b[0m\u001b[0;34m)\u001b[0m\u001b[0;34m\u001b[0m\u001b[0;34m\u001b[0m\u001b[0m\n\u001b[1;32m     13\u001b[0m \u001b[0;34m\u001b[0m\u001b[0m\n",
            "\u001b[0;32m/usr/local/lib/python3.10/dist-packages/tensorflow/python/ops/weak_tensor_ops.py\u001b[0m in \u001b[0;36mwrapper\u001b[0;34m(*args, **kwargs)\u001b[0m\n\u001b[1;32m     86\u001b[0m   \u001b[0;32mdef\u001b[0m \u001b[0mwrapper\u001b[0m\u001b[0;34m(\u001b[0m\u001b[0;34m*\u001b[0m\u001b[0margs\u001b[0m\u001b[0;34m,\u001b[0m \u001b[0;34m**\u001b[0m\u001b[0mkwargs\u001b[0m\u001b[0;34m)\u001b[0m\u001b[0;34m:\u001b[0m\u001b[0;34m\u001b[0m\u001b[0;34m\u001b[0m\u001b[0m\n\u001b[1;32m     87\u001b[0m     \u001b[0;32mif\u001b[0m \u001b[0;32mnot\u001b[0m \u001b[0mops\u001b[0m\u001b[0;34m.\u001b[0m\u001b[0mis_auto_dtype_conversion_enabled\u001b[0m\u001b[0;34m(\u001b[0m\u001b[0;34m)\u001b[0m\u001b[0;34m:\u001b[0m\u001b[0;34m\u001b[0m\u001b[0;34m\u001b[0m\u001b[0m\n\u001b[0;32m---> 88\u001b[0;31m       \u001b[0;32mreturn\u001b[0m \u001b[0mop\u001b[0m\u001b[0;34m(\u001b[0m\u001b[0;34m*\u001b[0m\u001b[0margs\u001b[0m\u001b[0;34m,\u001b[0m \u001b[0;34m**\u001b[0m\u001b[0mkwargs\u001b[0m\u001b[0;34m)\u001b[0m\u001b[0;34m\u001b[0m\u001b[0;34m\u001b[0m\u001b[0m\n\u001b[0m\u001b[1;32m     89\u001b[0m     \u001b[0mbound_arguments\u001b[0m \u001b[0;34m=\u001b[0m \u001b[0msignature\u001b[0m\u001b[0;34m.\u001b[0m\u001b[0mbind\u001b[0m\u001b[0;34m(\u001b[0m\u001b[0;34m*\u001b[0m\u001b[0margs\u001b[0m\u001b[0;34m,\u001b[0m \u001b[0;34m**\u001b[0m\u001b[0mkwargs\u001b[0m\u001b[0;34m)\u001b[0m\u001b[0;34m\u001b[0m\u001b[0;34m\u001b[0m\u001b[0m\n\u001b[1;32m     90\u001b[0m     \u001b[0mbound_arguments\u001b[0m\u001b[0;34m.\u001b[0m\u001b[0mapply_defaults\u001b[0m\u001b[0;34m(\u001b[0m\u001b[0;34m)\u001b[0m\u001b[0;34m\u001b[0m\u001b[0;34m\u001b[0m\u001b[0m\n",
            "\u001b[0;32m/usr/local/lib/python3.10/dist-packages/tensorflow/python/util/traceback_utils.py\u001b[0m in \u001b[0;36merror_handler\u001b[0;34m(*args, **kwargs)\u001b[0m\n\u001b[1;32m    151\u001b[0m     \u001b[0;32mexcept\u001b[0m \u001b[0mException\u001b[0m \u001b[0;32mas\u001b[0m \u001b[0me\u001b[0m\u001b[0;34m:\u001b[0m\u001b[0;34m\u001b[0m\u001b[0;34m\u001b[0m\u001b[0m\n\u001b[1;32m    152\u001b[0m       \u001b[0mfiltered_tb\u001b[0m \u001b[0;34m=\u001b[0m \u001b[0m_process_traceback_frames\u001b[0m\u001b[0;34m(\u001b[0m\u001b[0me\u001b[0m\u001b[0;34m.\u001b[0m\u001b[0m__traceback__\u001b[0m\u001b[0;34m)\u001b[0m\u001b[0;34m\u001b[0m\u001b[0;34m\u001b[0m\u001b[0m\n\u001b[0;32m--> 153\u001b[0;31m       \u001b[0;32mraise\u001b[0m \u001b[0me\u001b[0m\u001b[0;34m.\u001b[0m\u001b[0mwith_traceback\u001b[0m\u001b[0;34m(\u001b[0m\u001b[0mfiltered_tb\u001b[0m\u001b[0;34m)\u001b[0m \u001b[0;32mfrom\u001b[0m \u001b[0;32mNone\u001b[0m\u001b[0;34m\u001b[0m\u001b[0;34m\u001b[0m\u001b[0m\n\u001b[0m\u001b[1;32m    154\u001b[0m     \u001b[0;32mfinally\u001b[0m\u001b[0;34m:\u001b[0m\u001b[0;34m\u001b[0m\u001b[0;34m\u001b[0m\u001b[0m\n\u001b[1;32m    155\u001b[0m       \u001b[0;32mdel\u001b[0m \u001b[0mfiltered_tb\u001b[0m\u001b[0;34m\u001b[0m\u001b[0;34m\u001b[0m\u001b[0m\n",
            "\u001b[0;32m/usr/local/lib/python3.10/dist-packages/tensorflow/python/eager/execute.py\u001b[0m in \u001b[0;36mquick_execute\u001b[0;34m(op_name, num_outputs, inputs, attrs, ctx, name)\u001b[0m\n\u001b[1;32m     51\u001b[0m   \u001b[0;32mtry\u001b[0m\u001b[0;34m:\u001b[0m\u001b[0;34m\u001b[0m\u001b[0;34m\u001b[0m\u001b[0m\n\u001b[1;32m     52\u001b[0m     \u001b[0mctx\u001b[0m\u001b[0;34m.\u001b[0m\u001b[0mensure_initialized\u001b[0m\u001b[0;34m(\u001b[0m\u001b[0;34m)\u001b[0m\u001b[0;34m\u001b[0m\u001b[0;34m\u001b[0m\u001b[0m\n\u001b[0;32m---> 53\u001b[0;31m     tensors = pywrap_tfe.TFE_Py_Execute(ctx._handle, device_name, op_name,\n\u001b[0m\u001b[1;32m     54\u001b[0m                                         inputs, attrs, num_outputs)\n\u001b[1;32m     55\u001b[0m   \u001b[0;32mexcept\u001b[0m \u001b[0mcore\u001b[0m\u001b[0;34m.\u001b[0m\u001b[0m_NotOkStatusException\u001b[0m \u001b[0;32mas\u001b[0m \u001b[0me\u001b[0m\u001b[0;34m:\u001b[0m\u001b[0;34m\u001b[0m\u001b[0;34m\u001b[0m\u001b[0m\n",
            "\u001b[0;31mInvalidArgumentError\u001b[0m: {{function_node __wrapped__Reshape_device_/job:localhost/replica:0/task:0/device:CPU:0}} Input to reshape is a tensor with 46904 values, but the requested shape has 3200 [Op:Reshape]"
          ]
        }
      ],
      "source": [
        "# Convert training data to TensorFlow tensors\n",
        "training_data_tf = tf.convert_to_tensor(training_data, dtype=tf.float32)\n",
        "\n",
        "# Train GAN\n",
        "train_gan(generator, discriminator, gan, training_data_tf, epochs, batch_size)"
      ]
    },
    {
      "cell_type": "code",
      "execution_count": null,
      "metadata": {
        "id": "wWZrsM1UsDi2"
      },
      "outputs": [],
      "source": [
        "# Generate concentration values for missing data\n",
        "missing_data_indices = ozone_charleroi[ozone_charleroi['Concentration'].isna()].index\n",
        "missing_data = ozone_charleroi.loc[missing_data_indices].values\n",
        "generated_concentrations = generator.predict(missing_data)\n",
        "ozone_charleroi.loc[missing_data_indices, 'generated_concentration'] = generated_concentrations.flatten()"
      ]
    },
    {
      "cell_type": "code",
      "execution_count": null,
      "metadata": {
        "id": "unj5kxw6sM_F"
      },
      "outputs": [],
      "source": [
        "# Extract real and generated concentration values\n",
        "real_concentrations = ozone_charleroi_ori.loc[missing_data_indices, 'Concentration']\n",
        "generated_concentrations = ozone_charleroi.loc[missing_data_indices, 'generated_concentration']\n",
        "\n",
        "# Calculate Mean Squared Error\n",
        "mse_gan = mean_squared_error(real_concentrations, generated_concentrations)\n",
        "print(\"Mean Squared Error:\", mse_gan)"
      ]
    },
    {
      "cell_type": "markdown",
      "metadata": {
        "id": "2Pru_oQNsFBB"
      },
      "source": [
        "# **Evaluation between Models**"
      ]
    },
    {
      "cell_type": "code",
      "execution_count": null,
      "metadata": {
        "id": "zG9wujAF3iB_"
      },
      "outputs": [],
      "source": [
        "import matplotlib.pyplot as plt"
      ]
    },
    {
      "cell_type": "code",
      "execution_count": null,
      "metadata": {
        "id": "cI73r54IsEul"
      },
      "outputs": [],
      "source": [
        "#x_values = ['Linear Interpolation','ARIMA model','Autoencoder','GAN']\n",
        "#y_values_lininter = [mse_char_inter,mse_ARIMA_char,mse_autoencoder,mse_gan]\n",
        "x_values = ['Linear Interpolation','ARIMA model','Autoencoder','LSTM Model']\n",
        "y_values_lininter = [mse_char_inter,mse_ARIMA_char,mse_autoencoder,mse_LSTM]"
      ]
    },
    {
      "cell_type": "code",
      "execution_count": null,
      "metadata": {
        "colab": {
          "base_uri": "https://localhost:8080/",
          "height": 472
        },
        "id": "8yY8LaaFsOPg",
        "outputId": "230c8596-b541-4cae-f745-b4c081e51605"
      },
      "outputs": [
        {
          "output_type": "display_data",
          "data": {
            "text/plain": [
              "<Figure size 640x480 with 1 Axes>"
            ],
            "image/png": "[encoded data removed]"
          },
          "metadata": {}
        }
      ],
      "source": [
        "plt.plot(x_values, y_values_lininter, label='Charleroi O_3 data', marker='o', color='orange')\n",
        "plt.xlabel('Data Collection Stations')\n",
        "plt.ylabel('MSE scores')\n",
        "plt.title('MSE scores for interpolation of Ozone concentrations')\n",
        "plt.legend()\n",
        "plt.show()"
      ]
    }
  ],
  "metadata": {
    "colab": {
      "collapsed_sections": [
        "HYGeU8Z6bI5I",
        "XZeMUWcjif4X"
      ],
      "machine_shape": "hm",
      "toc_visible": true,
      "provenance": []
    },
    "kernelspec": {
      "display_name": "Python 3",
      "name": "python3"
    },
    "language_info": {
      "name": "python"
    }
  },
  "nbformat": 4,
  "nbformat_minor": 0
}