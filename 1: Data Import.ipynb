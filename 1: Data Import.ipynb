{
  "nbformat": 4,
  "nbformat_minor": 0,
  "metadata": {
    "colab": {
      "provenance": []
    },
    "kernelspec": {
      "name": "python3",
      "display_name": "Python 3"
    },
    "language_info": {
      "name": "python"
    }
  },
  "cells": [
    {
      "cell_type": "markdown",
      "source": [
        "# File to read and clean the data, exporting the data into other files."
      ],
      "metadata": {
        "id": "VChBjI3QNcxV"
      }
    },
    {
      "cell_type": "code",
      "source": [
        "import pandas as pd\n",
        "from google.colab import drive\n",
        "drive.mount('/content/drive')"
      ],
      "metadata": {
        "colab": {
          "base_uri": "https://localhost:8080/"
        },
        "id": "I5EUj1MfHIi6",
        "outputId": "293e494e-ef40-4d95-c7f4-494503a8f0d5"
      },
      "execution_count": 1,
      "outputs": [
        {
          "output_type": "stream",
          "name": "stdout",
          "text": [
            "Drive already mounted at /content/drive; to attempt to forcibly remount, call drive.mount(\"/content/drive\", force_remount=True).\n"
          ]
        }
      ]
    },
    {
      "cell_type": "code",
      "source": [
        "betb011_22 = pd.read_csv(\"/content/drive/My Drive/DataThesis/BE_7_42647_2022_timeseries.csv\")\n",
        "betb011_23 = pd.read_csv(\"/content/drive/My Drive/DataThesis/BE_7_42647_2023_timeseries.csv\")\n",
        "\n",
        "betr012_22 = pd.read_csv(\"/content/drive/My Drive/DataThesis/BE_7_42119_2022_timeseries.csv\")\n",
        "betr012_23 = pd.read_csv(\"/content/drive/My Drive/DataThesis/BE_7_42119_2023_timeseries.csv\")\n",
        "\n",
        "betb004_22 = pd.read_csv(\"/content/drive/My Drive/DataThesis/BE_7_42253_2022_timeseries.csv\")\n",
        "betb004_23 = pd.read_csv(\"/content/drive/My Drive/DataThesis/BE_7_42253_2023_timeseries.csv\")\n",
        "\n",
        "betr001_22 = pd.read_csv(\"/content/drive/My Drive/DataThesis/BE_7_41247_2022_timeseries.csv\")\n",
        "betr001_23 = pd.read_csv(\"/content/drive/My Drive/DataThesis/BE_7_41247_2023_timeseries.csv\")\n",
        "\n",
        "betmeu1_22 = pd.read_csv(\"/content/drive/My Drive/DataThesis/BE_7_61521_2022_timeseries.csv\")\n",
        "betmeu1_23 = pd.read_csv(\"/content/drive/My Drive/DataThesis/BE_7_61521_2023_timeseries.csv\")"
      ],
      "metadata": {
        "id": "PLnZE8SzE63I"
      },
      "execution_count": 2,
      "outputs": []
    },
    {
      "cell_type": "code",
      "source": [
        "betb011 = pd.concat([betb011_22,betb011_23])\n",
        "betr012 = pd.concat([betr012_22,betr012_23])\n",
        "betb004 = pd.concat([betb004_22,betb004_23])\n",
        "betr001 = pd.concat([betr001_22,betr001_23])\n",
        "betmeu1 = pd.concat([betmeu1_22,betmeu1_23])"
      ],
      "metadata": {
        "id": "dZfCfE6QE_RZ"
      },
      "execution_count": 3,
      "outputs": []
    },
    {
      "cell_type": "code",
      "source": [
        "columns_remove = ['AirPollutant','DatetimeEnd','AirQualityStationEoICode','AirQualityStation','Countrycode','Namespace','AirQualityNetwork','SamplingProcess','SamplingPoint','Sample','AirPollutantCode','AveragingTime','UnitOfMeasurement','Validity','Verification']\n",
        "ozone_betb011 = betb011.drop(columns=columns_remove)\n",
        "ozone_betr012 = betr012.drop(columns=columns_remove)\n",
        "ozone_betb004 = betb004.drop(columns=columns_remove)\n",
        "ozone_betr001 = betr001.drop(columns=columns_remove)\n",
        "ozone_betmeu1 = betmeu1.drop(columns=columns_remove)"
      ],
      "metadata": {
        "id": "ie9e5kI3FAIY"
      },
      "execution_count": 4,
      "outputs": []
    },
    {
      "cell_type": "code",
      "source": [
        "dfs = [ozone_betb011,ozone_betr012,ozone_betb004,ozone_betr001,ozone_betmeu1]"
      ],
      "metadata": {
        "id": "i_UcgodxOQaK"
      },
      "execution_count": 5,
      "outputs": []
    },
    {
      "cell_type": "code",
      "source": [
        "for df in dfs:\n",
        "  df['DatetimeBegin'] = df['DatetimeBegin'].str[:-7]\n",
        "  df['DatetimeBegin'] = pd.to_datetime(df['DatetimeBegin'])"
      ],
      "metadata": {
        "id": "0T5AsUd3OQWf"
      },
      "execution_count": 6,
      "outputs": []
    },
    {
      "cell_type": "code",
      "source": [
        "ozone_betb011.to_csv(\"/content/drive/My Drive/DataThesis/ozone_betb011.csv\", index=False)\n",
        "ozone_betr012.to_csv(\"/content/drive/My Drive/DataThesis/ozone_betr012.csv\", index=False)\n",
        "ozone_betb004.to_csv(\"/content/drive/My Drive/DataThesis/ozone_betb004.csv\", index=False)\n",
        "ozone_betr001.to_csv(\"/content/drive/My Drive/DataThesis/ozone_betr001.csv\", index=False)\n",
        "ozone_betmeu1.to_csv(\"/content/drive/My Drive/DataThesis/ozone_betmeu1.csv\", index=False)"
      ],
      "metadata": {
        "id": "79GCWrX-L9d5"
      },
      "execution_count": 7,
      "outputs": []
    }
  ]
}
