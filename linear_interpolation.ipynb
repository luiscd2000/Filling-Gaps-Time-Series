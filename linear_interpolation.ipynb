{
  "nbformat": 4,
  "nbformat_minor": 0,
  "metadata": {
    "colab": {
      "provenance": []
    },
    "kernelspec": {
      "name": "python3",
      "display_name": "Python 3"
    },
    "language_info": {
      "name": "python"
    }
  },
  "cells": [
    {
      "cell_type": "markdown",
      "source": [
        "# Data Import"
      ],
      "metadata": {
        "id": "ygV9Rim8cWqN"
      }
    },
    {
      "cell_type": "code",
      "source": [
        "import pandas as pd\n",
        "from google.colab import drive\n",
        "drive.mount('/content/drive')"
      ],
      "metadata": {
        "colab": {
          "base_uri": "https://localhost:8080/"
        },
        "id": "Tv_lEJ7YUIsz",
        "outputId": "a0a172b1-662d-4e84-82a2-684c561eca3d"
      },
      "execution_count": 1,
      "outputs": [
        {
          "output_type": "stream",
          "name": "stdout",
          "text": [
            "Drive already mounted at /content/drive; to attempt to forcibly remount, call drive.mount(\"/content/drive\", force_remount=True).\n"
          ]
        }
      ]
    },
    {
      "cell_type": "code",
      "source": [
        "ozone_betb011 = pd.read_csv(\"/content/drive/My Drive/DataThesis/ozone_betb011.csv\")\n",
        "ozone_betr012 = pd.read_csv(\"/content/drive/My Drive/DataThesis/ozone_betr012.csv\")\n",
        "ozone_betb004 = pd.read_csv(\"/content/drive/My Drive/DataThesis/ozone_betb004.csv\")\n",
        "ozone_betr001 = pd.read_csv(\"/content/drive/My Drive/DataThesis/ozone_betr001.csv\")\n",
        "ozone_betmeu1 = pd.read_csv(\"/content/drive/My Drive/DataThesis/ozone_betmeu1.csv\")"
      ],
      "metadata": {
        "id": "69AEHGwmUUV3"
      },
      "execution_count": 2,
      "outputs": []
    },
    {
      "cell_type": "code",
      "source": [
        "betb011_ozone_ori = ozone_betb011.copy()\n",
        "betr012_ozone_ori = ozone_betr012.copy()\n",
        "betb004_ozone_ori = ozone_betb004.copy()\n",
        "betr001_ozone_ori = ozone_betr001.copy()\n",
        "betmeu1_ozone_ori = ozone_betmeu1.copy()"
      ],
      "metadata": {
        "id": "0nSTfHfOVC80"
      },
      "execution_count": 3,
      "outputs": []
    },
    {
      "cell_type": "markdown",
      "source": [
        "# POLINOMIAL INTER"
      ],
      "metadata": {
        "id": "cm-AMdwyTXcZ"
      }
    },
    {
      "cell_type": "markdown",
      "source": [
        "The following statements remove concentration value until 20% are 'NaN', to compute the MAE from these observations. We then perform the numpy interpolation, and remove the columns that were originally 'NaN' to compare both dataframes using the MAE."
      ],
      "metadata": {
        "id": "8vebRcswTcnB"
      }
    },
    {
      "cell_type": "code",
      "source": [
        "import matplotlib.pyplot as plt\n",
        "import numpy as np\n",
        "from sklearn.metrics import mean_squared_error\n",
        "\n",
        "from sklearn.model_selection import train_test_split\n",
        "from sklearn.preprocessing import StandardScaler\n",
        "from tensorflow.keras.models import Sequential\n",
        "from tensorflow.keras.layers import Dense"
      ],
      "metadata": {
        "id": "rPpSTbcQUDOL"
      },
      "execution_count": 4,
      "outputs": []
    },
    {
      "cell_type": "code",
      "execution_count": 5,
      "metadata": {
        "id": "pZ6QJEq1S1rP"
      },
      "outputs": [],
      "source": [
        "import random\n",
        "\n",
        "# Set the seed\n",
        "random.seed(19)\n",
        "\n",
        "obj = 0.20 # Percentage of observations that are going to be removed, to interpolate the removed observations and compute the MSE."
      ]
    },
    {
      "cell_type": "markdown",
      "source": [
        "# Betb011"
      ],
      "metadata": {
        "id": "OV8niE9xWoOP"
      }
    },
    {
      "cell_type": "code",
      "source": [
        "missing_values = int(len(ozone_betb011) * obj)\n",
        "random_indices = np.random.choice(ozone_betb011.index, missing_values, replace=False)\n",
        "ozone_betb011.loc[random_indices, 'Concentration'] = np.nan\n",
        "ozone_betb011['Concentration'] = np.interp(ozone_betb011.index, ozone_betb011.dropna().index, ozone_betb011['Concentration'].dropna())\n",
        "\n",
        "indices_to_remove_1 = []\n",
        "for index, row in betb011_ozone_ori.iterrows():\n",
        "    if np.isnan(row['Concentration']):\n",
        "        indices_to_remove_1.append(index)\n",
        "ozone_betb011.drop(indices_to_remove_1, inplace=True)\n",
        "betb011_ozone_ori.drop(indices_to_remove_1, inplace=True)"
      ],
      "metadata": {
        "id": "p3FMc2WYTUTj"
      },
      "execution_count": 6,
      "outputs": []
    },
    {
      "cell_type": "code",
      "source": [
        "print(random_indices)"
      ],
      "metadata": {
        "colab": {
          "base_uri": "https://localhost:8080/"
        },
        "id": "aA2F_9nlaKHH",
        "outputId": "fcfb4543-a35a-428f-f742-02e43d3f8d96"
      },
      "execution_count": 7,
      "outputs": [
        {
          "output_type": "stream",
          "name": "stdout",
          "text": [
            "[ 2958  1834 14859 ... 10612  6435  3821]\n"
          ]
        }
      ]
    },
    {
      "cell_type": "code",
      "source": [
        "mse_b011 = mean_squared_error(ozone_betb011['Concentration'],betb011_ozone_ori['Concentration'])"
      ],
      "metadata": {
        "id": "_ic_9sLsWEXs"
      },
      "execution_count": 8,
      "outputs": []
    },
    {
      "cell_type": "code",
      "source": [
        "mse_b011"
      ],
      "metadata": {
        "colab": {
          "base_uri": "https://localhost:8080/"
        },
        "id": "bBZ3nzyDWHcL",
        "outputId": "a3acc321-4018-4c0e-d64e-39737b7db519"
      },
      "execution_count": 9,
      "outputs": [
        {
          "output_type": "execute_result",
          "data": {
            "text/plain": [
              "5.378732709835805"
            ]
          },
          "metadata": {},
          "execution_count": 9
        }
      ]
    },
    {
      "cell_type": "markdown",
      "source": [
        "# Betr012"
      ],
      "metadata": {
        "id": "1-skyDWgWv2p"
      }
    },
    {
      "cell_type": "code",
      "source": [
        "missing_values = int(len(ozone_betr012) * obj)\n",
        "random_indices = np.random.choice(ozone_betr012.index, missing_values, replace=False)\n",
        "ozone_betr012.loc[random_indices, 'Concentration'] = np.nan\n",
        "ozone_betr012['Concentration'] = np.interp(ozone_betr012.index, ozone_betr012.dropna().index, ozone_betr012['Concentration'].dropna())\n",
        "\n",
        "indices_to_remove_1 = []\n",
        "for index, row in betr012_ozone_ori.iterrows():\n",
        "    if np.isnan(row['Concentration']):\n",
        "        indices_to_remove_1.append(index)\n",
        "ozone_betr012.drop(indices_to_remove_1, inplace=True)\n",
        "betr012_ozone_ori.drop(indices_to_remove_1, inplace=True)"
      ],
      "metadata": {
        "id": "zGitvdWKWm2d"
      },
      "execution_count": 10,
      "outputs": []
    },
    {
      "cell_type": "code",
      "source": [
        "print(random_indices)"
      ],
      "metadata": {
        "colab": {
          "base_uri": "https://localhost:8080/"
        },
        "id": "XXOugskiaJNM",
        "outputId": "6f9a61fe-9f81-4ecc-ac81-df59f023bcea"
      },
      "execution_count": 11,
      "outputs": [
        {
          "output_type": "stream",
          "name": "stdout",
          "text": [
            "[ 7693  9245 12370 ... 15084  8901  6941]\n"
          ]
        }
      ]
    },
    {
      "cell_type": "code",
      "source": [
        "mse_r012 = mean_squared_error(ozone_betr012['Concentration'],betr012_ozone_ori['Concentration'])"
      ],
      "metadata": {
        "id": "fgetRioHW0dZ"
      },
      "execution_count": 12,
      "outputs": []
    },
    {
      "cell_type": "code",
      "source": [
        "mse_r012"
      ],
      "metadata": {
        "colab": {
          "base_uri": "https://localhost:8080/"
        },
        "id": "BHcGsAtXW12v",
        "outputId": "6c393c68-d1b0-473b-dd81-6869f685907b"
      },
      "execution_count": 13,
      "outputs": [
        {
          "output_type": "execute_result",
          "data": {
            "text/plain": [
              "4.401389995803397"
            ]
          },
          "metadata": {},
          "execution_count": 13
        }
      ]
    },
    {
      "cell_type": "markdown",
      "source": [
        "# Betb004"
      ],
      "metadata": {
        "id": "1eKgrIXZXWAi"
      }
    },
    {
      "cell_type": "code",
      "source": [
        "missing_values = int(len(ozone_betb004) * obj)\n",
        "random_indices = np.random.choice(ozone_betb004.index, missing_values, replace=False)\n",
        "ozone_betb004.loc[random_indices, 'Concentration'] = np.nan\n",
        "ozone_betb004['Concentration'] = np.interp(ozone_betb004.index, ozone_betb004.dropna().index, ozone_betb004['Concentration'].dropna())\n",
        "\n",
        "indices_to_remove_1 = []\n",
        "for index, row in betb004_ozone_ori.iterrows():\n",
        "    if np.isnan(row['Concentration']):\n",
        "        indices_to_remove_1.append(index)\n",
        "ozone_betb004.drop(indices_to_remove_1, inplace=True)\n",
        "betb004_ozone_ori.drop(indices_to_remove_1, inplace=True)"
      ],
      "metadata": {
        "id": "l29RLcEtXX_E"
      },
      "execution_count": 14,
      "outputs": []
    },
    {
      "cell_type": "code",
      "source": [
        "print(random_indices)"
      ],
      "metadata": {
        "colab": {
          "base_uri": "https://localhost:8080/"
        },
        "id": "jCrIPCaEaHn-",
        "outputId": "8805b1bd-385c-495c-fde5-407f6951528e"
      },
      "execution_count": 15,
      "outputs": [
        {
          "output_type": "stream",
          "name": "stdout",
          "text": [
            "[2101 7792 5638 ... 7119 8427 1817]\n"
          ]
        }
      ]
    },
    {
      "cell_type": "code",
      "source": [
        "mse_b004 = mean_squared_error(ozone_betb004['Concentration'],betb004_ozone_ori['Concentration'])"
      ],
      "metadata": {
        "id": "4A0AgMiLXZ-w"
      },
      "execution_count": 16,
      "outputs": []
    },
    {
      "cell_type": "code",
      "source": [
        "mse_b004"
      ],
      "metadata": {
        "colab": {
          "base_uri": "https://localhost:8080/"
        },
        "id": "UoT_cG5nXcFu",
        "outputId": "9fe6838c-3e72-44ba-dd43-f7af8bafe168"
      },
      "execution_count": 17,
      "outputs": [
        {
          "output_type": "execute_result",
          "data": {
            "text/plain": [
              "4.317601133939019"
            ]
          },
          "metadata": {},
          "execution_count": 17
        }
      ]
    },
    {
      "cell_type": "markdown",
      "source": [
        "# Betr001"
      ],
      "metadata": {
        "id": "617lGqqcXv1f"
      }
    },
    {
      "cell_type": "code",
      "source": [
        "missing_values = int(len(ozone_betr001) * obj)\n",
        "random_indices = np.random.choice(ozone_betr001.index, missing_values, replace=False)\n",
        "ozone_betr001.loc[random_indices, 'Concentration'] = np.nan\n",
        "ozone_betr001['Concentration'] = np.interp(ozone_betr001.index, ozone_betr001.dropna().index, ozone_betr001['Concentration'].dropna())\n",
        "\n",
        "indices_to_remove_1 = []\n",
        "for index, row in betr001_ozone_ori.iterrows():\n",
        "    if np.isnan(row['Concentration']):\n",
        "        indices_to_remove_1.append(index)\n",
        "ozone_betr001.drop(indices_to_remove_1, inplace=True)\n",
        "betr001_ozone_ori.drop(indices_to_remove_1, inplace=True)"
      ],
      "metadata": {
        "id": "Am3wil8kXvc6"
      },
      "execution_count": 18,
      "outputs": []
    },
    {
      "cell_type": "code",
      "source": [
        "print(random_indices)"
      ],
      "metadata": {
        "colab": {
          "base_uri": "https://localhost:8080/"
        },
        "id": "hocKiv3yaGtI",
        "outputId": "b830d7d2-86d1-4e21-9a55-fa8e19aee297"
      },
      "execution_count": 19,
      "outputs": [
        {
          "output_type": "stream",
          "name": "stdout",
          "text": [
            "[14529  5996 11888 ...  9799    17  9834]\n"
          ]
        }
      ]
    },
    {
      "cell_type": "code",
      "source": [
        "mse_r001 = mean_squared_error(ozone_betr001['Concentration'],betr001_ozone_ori['Concentration'])"
      ],
      "metadata": {
        "id": "K4hbZsBbXvT1"
      },
      "execution_count": 20,
      "outputs": []
    },
    {
      "cell_type": "code",
      "source": [
        "mse_r001"
      ],
      "metadata": {
        "colab": {
          "base_uri": "https://localhost:8080/"
        },
        "id": "5dkxAhigXvNl",
        "outputId": "0f370ff1-352d-4873-9fcf-ca4eabad6418"
      },
      "execution_count": 21,
      "outputs": [
        {
          "output_type": "execute_result",
          "data": {
            "text/plain": [
              "5.066063248745501"
            ]
          },
          "metadata": {},
          "execution_count": 21
        }
      ]
    },
    {
      "cell_type": "markdown",
      "source": [
        "# Betmeu1"
      ],
      "metadata": {
        "id": "8LxIm42OYWkM"
      }
    },
    {
      "cell_type": "code",
      "source": [
        "missing_values = int(len(ozone_betmeu1) * obj)\n",
        "random_indices = np.random.choice(ozone_betmeu1.index, missing_values, replace=False)\n",
        "ozone_betmeu1.loc[random_indices, 'Concentration'] = np.nan\n",
        "ozone_betmeu1['Concentration'] = np.interp(ozone_betmeu1.index, ozone_betmeu1.dropna().index, ozone_betmeu1['Concentration'].dropna())\n",
        "\n",
        "indices_to_remove_1 = []\n",
        "for index, row in betmeu1_ozone_ori.iterrows():\n",
        "    if np.isnan(row['Concentration']):\n",
        "        indices_to_remove_1.append(index)\n",
        "ozone_betmeu1.drop(indices_to_remove_1, inplace=True)\n",
        "betmeu1_ozone_ori.drop(indices_to_remove_1, inplace=True)"
      ],
      "metadata": {
        "id": "ZQxnamCsYXDS"
      },
      "execution_count": 22,
      "outputs": []
    },
    {
      "cell_type": "code",
      "source": [
        "print(random_indices)"
      ],
      "metadata": {
        "colab": {
          "base_uri": "https://localhost:8080/"
        },
        "id": "57lnDCPEaDQ4",
        "outputId": "53bc06b6-15ac-4ee1-ccda-63e66091b217"
      },
      "execution_count": 23,
      "outputs": [
        {
          "output_type": "stream",
          "name": "stdout",
          "text": [
            "[ 3091 11184  3157 ...  6934  1960  1504]\n"
          ]
        }
      ]
    },
    {
      "cell_type": "code",
      "source": [
        "mse_meu1 = mean_squared_error(ozone_betmeu1['Concentration'],betmeu1_ozone_ori['Concentration'])"
      ],
      "metadata": {
        "id": "V5tfpf3JYX3h"
      },
      "execution_count": 24,
      "outputs": []
    },
    {
      "cell_type": "code",
      "source": [
        "mse_meu1"
      ],
      "metadata": {
        "colab": {
          "base_uri": "https://localhost:8080/"
        },
        "id": "Xk6wKLs2YXqe",
        "outputId": "ad144a9d-5145-434d-d244-91f8b6b79c05"
      },
      "execution_count": 25,
      "outputs": [
        {
          "output_type": "execute_result",
          "data": {
            "text/plain": [
              "5.272537673373239"
            ]
          },
          "metadata": {},
          "execution_count": 25
        }
      ]
    },
    {
      "cell_type": "markdown",
      "source": [
        "# **Evaluation between datasets**"
      ],
      "metadata": {
        "id": "TxRzC16radju"
      }
    },
    {
      "cell_type": "code",
      "source": [
        "x_values = ['betb011','betr012','betb004','betr001','betmeu1']\n",
        "y_values_lininter = [mse_b011,mse_r012,mse_b004,mse_r001,mse_meu1]\n",
        "# y_values_sarimax = [1018.2781136253669,977.1734765765663,869.3606901178483,804.6533299438154,896.0297470664505]"
      ],
      "metadata": {
        "id": "YfO4knoMagqe"
      },
      "execution_count": 26,
      "outputs": []
    },
    {
      "cell_type": "code",
      "source": [
        "plt.plot(x_values, y_values_lininter, label='LinInter', marker='o', color='blue')\n",
        "plt.xlabel('Data Collection Stations')\n",
        "plt.ylabel('MSE scores')\n",
        "plt.title('MSE scores for linear interpolation of Ozone concentrations')\n",
        "plt.legend()\n",
        "plt.show()"
      ],
      "metadata": {
        "colab": {
          "base_uri": "https://localhost:8080/",
          "height": 472
        },
        "id": "gB0CGvGka2tX",
        "outputId": "6cd6e266-d299-49b2-c29f-c3530f08fd1c"
      },
      "execution_count": 28,
      "outputs": [
        {
          "output_type": "display_data",
          "data": {
            "text/plain": [
              "<Figure size 640x480 with 1 Axes>"
            ],
            "image/png": "[encoded data removed]"
          },
          "metadata": {}
        }
      ]
    }
  ]
}